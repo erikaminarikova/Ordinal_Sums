{
  "cells": [
    {
      "cell_type": "markdown",
      "metadata": {
        "id": "view-in-github",
        "colab_type": "text"
      },
      "source": [
        "<a href=\"https://colab.research.google.com/github/erikaminarikova/Ordinal_Sums/blob/main/Example_6_california_housing_model_comparison.ipynb\" target=\"_parent\"><img src=\"https://colab.research.google.com/assets/colab-badge.svg\" alt=\"Open In Colab\"/></a>"
      ]
    },
    {
      "cell_type": "markdown",
      "source": [
        "Preparation of Data"
      ],
      "metadata": {
        "id": "P5HtkyuHOK0F"
      },
      "id": "P5HtkyuHOK0F"
    },
    {
      "cell_type": "code",
      "execution_count": 47,
      "id": "f63ef096",
      "metadata": {
        "id": "f63ef096"
      },
      "outputs": [],
      "source": [
        "import numpy as np\n",
        "import pandas as pd\n",
        "from sklearn import linear_model\n",
        "from sklearn.model_selection import train_test_split\n",
        "import matplotlib.pyplot as plt\n",
        "import time"
      ]
    },
    {
      "cell_type": "code",
      "execution_count": 2,
      "id": "1a4dc5a4",
      "metadata": {
        "id": "1a4dc5a4"
      },
      "outputs": [],
      "source": [
        "from sklearn.metrics import mean_squared_error\n",
        "import math\n",
        "from sklearn.metrics import accuracy_score, recall_score, precision_score, f1_score, confusion_matrix\n",
        "from sklearn import metrics"
      ]
    },
    {
      "cell_type": "code",
      "execution_count": 34,
      "id": "d764e5a4",
      "metadata": {
        "id": "d764e5a4"
      },
      "outputs": [],
      "source": [
        "from sklearn.datasets import fetch_california_housing\n",
        "from sklearn.preprocessing import MinMaxScaler\n",
        "\n",
        "california_housing = fetch_california_housing(as_frame=True)\n",
        "df = california_housing.frame"
      ]
    },
    {
      "cell_type": "code",
      "source": [
        "# identify outliers\n",
        "from scipy import stats\n",
        "\n",
        "z = np.abs(stats.zscore(df))\n",
        "threshold = 3\n",
        "# remove outliers\n",
        "df_o = df[(z<3).all(axis=1)]"
      ],
      "metadata": {
        "id": "seYOwjDU73dw"
      },
      "id": "seYOwjDU73dw",
      "execution_count": 35,
      "outputs": []
    },
    {
      "cell_type": "code",
      "source": [
        "# normalize the data\n",
        "columns = df_o.columns\n",
        "scaler = MinMaxScaler()\n",
        "model = scaler.fit_transform(df_o)\n",
        "df_scaled = pd.DataFrame(model, columns = columns)"
      ],
      "metadata": {
        "id": "pJ5ATmm48tLO"
      },
      "id": "pJ5ATmm48tLO",
      "execution_count": 36,
      "outputs": []
    },
    {
      "cell_type": "code",
      "source": [
        "data = pd.DataFrame()\n",
        "data = df_scaled[['MedInc', 'HouseAge', 'AveRooms', 'AveBedrms', 'Population', 'AveOccup', 'Latitude', 'Longitude']]\n",
        "\n",
        "data['target'] = df_scaled['MedHouseVal']"
      ],
      "metadata": {
        "id": "WjU0NmjG8x45"
      },
      "id": "WjU0NmjG8x45",
      "execution_count": 37,
      "outputs": []
    },
    {
      "cell_type": "code",
      "execution_count": 38,
      "id": "62ac58aa",
      "metadata": {
        "id": "62ac58aa"
      },
      "outputs": [],
      "source": [
        "data['target'] = data.apply(lambda row: 0 if (row['target']<=0.5)   else 1, axis=1)"
      ]
    },
    {
      "cell_type": "code",
      "execution_count": null,
      "id": "bf7df409",
      "metadata": {
        "id": "bf7df409",
        "outputId": "c2a756ea-230e-4139-b256-24320271af78",
        "colab": {
          "base_uri": "https://localhost:8080/",
          "height": 424
        }
      },
      "outputs": [
        {
          "output_type": "execute_result",
          "data": {
            "text/plain": [
              "         MedInc  HouseAge  AveRooms  AveBedrms  Population  AveOccup  \\\n",
              "0      0.864082  0.784314  0.529080   0.316547    0.066238  0.054379   \n",
              "1      0.861454  0.392157  0.464777   0.292740    0.497924  0.040955   \n",
              "2      0.746174  1.000000  0.641483   0.339303    0.102367  0.061810   \n",
              "3      0.567920  1.000000  0.428507   0.339125    0.115241  0.054150   \n",
              "4      0.369504  1.000000  0.468546   0.342803    0.116694  0.043113   \n",
              "...         ...       ...       ...        ...         ...       ...   \n",
              "19789  0.117091  0.470588  0.361971   0.366758    0.174834  0.054531   \n",
              "19790  0.227126  0.333333  0.454080   0.450404    0.073297  0.071464   \n",
              "19791  0.132517  0.313725  0.375770   0.360687    0.208472  0.047455   \n",
              "19792  0.150979  0.333333  0.386456   0.384447    0.153239  0.041358   \n",
              "19793  0.208553  0.294118  0.380009   0.380021    0.287375  0.056229   \n",
              "\n",
              "       Latitude  Longitude  target  \n",
              "0      0.567481   0.216327       1  \n",
              "1      0.565356   0.217347       1  \n",
              "2      0.564293   0.215306       1  \n",
              "3      0.564293   0.214286       1  \n",
              "4      0.564293   0.214286       1  \n",
              "...         ...        ...     ...  \n",
              "19789  0.737513   0.332653       0  \n",
              "19790  0.738576   0.320408       0  \n",
              "19791  0.732200   0.319388       0  \n",
              "19792  0.732200   0.309184       0  \n",
              "19793  0.725824   0.317347       0  \n",
              "\n",
              "[19794 rows x 9 columns]"
            ],
            "text/html": [
              "\n",
              "  <div id=\"df-f69bf907-b099-4bae-8a54-05636b565c8f\" class=\"colab-df-container\">\n",
              "    <div>\n",
              "<style scoped>\n",
              "    .dataframe tbody tr th:only-of-type {\n",
              "        vertical-align: middle;\n",
              "    }\n",
              "\n",
              "    .dataframe tbody tr th {\n",
              "        vertical-align: top;\n",
              "    }\n",
              "\n",
              "    .dataframe thead th {\n",
              "        text-align: right;\n",
              "    }\n",
              "</style>\n",
              "<table border=\"1\" class=\"dataframe\">\n",
              "  <thead>\n",
              "    <tr style=\"text-align: right;\">\n",
              "      <th></th>\n",
              "      <th>MedInc</th>\n",
              "      <th>HouseAge</th>\n",
              "      <th>AveRooms</th>\n",
              "      <th>AveBedrms</th>\n",
              "      <th>Population</th>\n",
              "      <th>AveOccup</th>\n",
              "      <th>Latitude</th>\n",
              "      <th>Longitude</th>\n",
              "      <th>target</th>\n",
              "    </tr>\n",
              "  </thead>\n",
              "  <tbody>\n",
              "    <tr>\n",
              "      <th>0</th>\n",
              "      <td>0.864082</td>\n",
              "      <td>0.784314</td>\n",
              "      <td>0.529080</td>\n",
              "      <td>0.316547</td>\n",
              "      <td>0.066238</td>\n",
              "      <td>0.054379</td>\n",
              "      <td>0.567481</td>\n",
              "      <td>0.216327</td>\n",
              "      <td>1</td>\n",
              "    </tr>\n",
              "    <tr>\n",
              "      <th>1</th>\n",
              "      <td>0.861454</td>\n",
              "      <td>0.392157</td>\n",
              "      <td>0.464777</td>\n",
              "      <td>0.292740</td>\n",
              "      <td>0.497924</td>\n",
              "      <td>0.040955</td>\n",
              "      <td>0.565356</td>\n",
              "      <td>0.217347</td>\n",
              "      <td>1</td>\n",
              "    </tr>\n",
              "    <tr>\n",
              "      <th>2</th>\n",
              "      <td>0.746174</td>\n",
              "      <td>1.000000</td>\n",
              "      <td>0.641483</td>\n",
              "      <td>0.339303</td>\n",
              "      <td>0.102367</td>\n",
              "      <td>0.061810</td>\n",
              "      <td>0.564293</td>\n",
              "      <td>0.215306</td>\n",
              "      <td>1</td>\n",
              "    </tr>\n",
              "    <tr>\n",
              "      <th>3</th>\n",
              "      <td>0.567920</td>\n",
              "      <td>1.000000</td>\n",
              "      <td>0.428507</td>\n",
              "      <td>0.339125</td>\n",
              "      <td>0.115241</td>\n",
              "      <td>0.054150</td>\n",
              "      <td>0.564293</td>\n",
              "      <td>0.214286</td>\n",
              "      <td>1</td>\n",
              "    </tr>\n",
              "    <tr>\n",
              "      <th>4</th>\n",
              "      <td>0.369504</td>\n",
              "      <td>1.000000</td>\n",
              "      <td>0.468546</td>\n",
              "      <td>0.342803</td>\n",
              "      <td>0.116694</td>\n",
              "      <td>0.043113</td>\n",
              "      <td>0.564293</td>\n",
              "      <td>0.214286</td>\n",
              "      <td>1</td>\n",
              "    </tr>\n",
              "    <tr>\n",
              "      <th>...</th>\n",
              "      <td>...</td>\n",
              "      <td>...</td>\n",
              "      <td>...</td>\n",
              "      <td>...</td>\n",
              "      <td>...</td>\n",
              "      <td>...</td>\n",
              "      <td>...</td>\n",
              "      <td>...</td>\n",
              "      <td>...</td>\n",
              "    </tr>\n",
              "    <tr>\n",
              "      <th>19789</th>\n",
              "      <td>0.117091</td>\n",
              "      <td>0.470588</td>\n",
              "      <td>0.361971</td>\n",
              "      <td>0.366758</td>\n",
              "      <td>0.174834</td>\n",
              "      <td>0.054531</td>\n",
              "      <td>0.737513</td>\n",
              "      <td>0.332653</td>\n",
              "      <td>0</td>\n",
              "    </tr>\n",
              "    <tr>\n",
              "      <th>19790</th>\n",
              "      <td>0.227126</td>\n",
              "      <td>0.333333</td>\n",
              "      <td>0.454080</td>\n",
              "      <td>0.450404</td>\n",
              "      <td>0.073297</td>\n",
              "      <td>0.071464</td>\n",
              "      <td>0.738576</td>\n",
              "      <td>0.320408</td>\n",
              "      <td>0</td>\n",
              "    </tr>\n",
              "    <tr>\n",
              "      <th>19791</th>\n",
              "      <td>0.132517</td>\n",
              "      <td>0.313725</td>\n",
              "      <td>0.375770</td>\n",
              "      <td>0.360687</td>\n",
              "      <td>0.208472</td>\n",
              "      <td>0.047455</td>\n",
              "      <td>0.732200</td>\n",
              "      <td>0.319388</td>\n",
              "      <td>0</td>\n",
              "    </tr>\n",
              "    <tr>\n",
              "      <th>19792</th>\n",
              "      <td>0.150979</td>\n",
              "      <td>0.333333</td>\n",
              "      <td>0.386456</td>\n",
              "      <td>0.384447</td>\n",
              "      <td>0.153239</td>\n",
              "      <td>0.041358</td>\n",
              "      <td>0.732200</td>\n",
              "      <td>0.309184</td>\n",
              "      <td>0</td>\n",
              "    </tr>\n",
              "    <tr>\n",
              "      <th>19793</th>\n",
              "      <td>0.208553</td>\n",
              "      <td>0.294118</td>\n",
              "      <td>0.380009</td>\n",
              "      <td>0.380021</td>\n",
              "      <td>0.287375</td>\n",
              "      <td>0.056229</td>\n",
              "      <td>0.725824</td>\n",
              "      <td>0.317347</td>\n",
              "      <td>0</td>\n",
              "    </tr>\n",
              "  </tbody>\n",
              "</table>\n",
              "<p>19794 rows × 9 columns</p>\n",
              "</div>\n",
              "    <div class=\"colab-df-buttons\">\n",
              "\n",
              "  <div class=\"colab-df-container\">\n",
              "    <button class=\"colab-df-convert\" onclick=\"convertToInteractive('df-f69bf907-b099-4bae-8a54-05636b565c8f')\"\n",
              "            title=\"Convert this dataframe to an interactive table.\"\n",
              "            style=\"display:none;\">\n",
              "\n",
              "  <svg xmlns=\"http://www.w3.org/2000/svg\" height=\"24px\" viewBox=\"0 -960 960 960\">\n",
              "    <path d=\"M120-120v-720h720v720H120Zm60-500h600v-160H180v160Zm220 220h160v-160H400v160Zm0 220h160v-160H400v160ZM180-400h160v-160H180v160Zm440 0h160v-160H620v160ZM180-180h160v-160H180v160Zm440 0h160v-160H620v160Z\"/>\n",
              "  </svg>\n",
              "    </button>\n",
              "\n",
              "  <style>\n",
              "    .colab-df-container {\n",
              "      display:flex;\n",
              "      gap: 12px;\n",
              "    }\n",
              "\n",
              "    .colab-df-convert {\n",
              "      background-color: #E8F0FE;\n",
              "      border: none;\n",
              "      border-radius: 50%;\n",
              "      cursor: pointer;\n",
              "      display: none;\n",
              "      fill: #1967D2;\n",
              "      height: 32px;\n",
              "      padding: 0 0 0 0;\n",
              "      width: 32px;\n",
              "    }\n",
              "\n",
              "    .colab-df-convert:hover {\n",
              "      background-color: #E2EBFA;\n",
              "      box-shadow: 0px 1px 2px rgba(60, 64, 67, 0.3), 0px 1px 3px 1px rgba(60, 64, 67, 0.15);\n",
              "      fill: #174EA6;\n",
              "    }\n",
              "\n",
              "    .colab-df-buttons div {\n",
              "      margin-bottom: 4px;\n",
              "    }\n",
              "\n",
              "    [theme=dark] .colab-df-convert {\n",
              "      background-color: #3B4455;\n",
              "      fill: #D2E3FC;\n",
              "    }\n",
              "\n",
              "    [theme=dark] .colab-df-convert:hover {\n",
              "      background-color: #434B5C;\n",
              "      box-shadow: 0px 1px 3px 1px rgba(0, 0, 0, 0.15);\n",
              "      filter: drop-shadow(0px 1px 2px rgba(0, 0, 0, 0.3));\n",
              "      fill: #FFFFFF;\n",
              "    }\n",
              "  </style>\n",
              "\n",
              "    <script>\n",
              "      const buttonEl =\n",
              "        document.querySelector('#df-f69bf907-b099-4bae-8a54-05636b565c8f button.colab-df-convert');\n",
              "      buttonEl.style.display =\n",
              "        google.colab.kernel.accessAllowed ? 'block' : 'none';\n",
              "\n",
              "      async function convertToInteractive(key) {\n",
              "        const element = document.querySelector('#df-f69bf907-b099-4bae-8a54-05636b565c8f');\n",
              "        const dataTable =\n",
              "          await google.colab.kernel.invokeFunction('convertToInteractive',\n",
              "                                                    [key], {});\n",
              "        if (!dataTable) return;\n",
              "\n",
              "        const docLinkHtml = 'Like what you see? Visit the ' +\n",
              "          '<a target=\"_blank\" href=https://colab.research.google.com/notebooks/data_table.ipynb>data table notebook</a>'\n",
              "          + ' to learn more about interactive tables.';\n",
              "        element.innerHTML = '';\n",
              "        dataTable['output_type'] = 'display_data';\n",
              "        await google.colab.output.renderOutput(dataTable, element);\n",
              "        const docLink = document.createElement('div');\n",
              "        docLink.innerHTML = docLinkHtml;\n",
              "        element.appendChild(docLink);\n",
              "      }\n",
              "    </script>\n",
              "  </div>\n",
              "\n",
              "\n",
              "<div id=\"df-821f6612-f579-4535-a418-3108f9441795\">\n",
              "  <button class=\"colab-df-quickchart\" onclick=\"quickchart('df-821f6612-f579-4535-a418-3108f9441795')\"\n",
              "            title=\"Suggest charts\"\n",
              "            style=\"display:none;\">\n",
              "\n",
              "<svg xmlns=\"http://www.w3.org/2000/svg\" height=\"24px\"viewBox=\"0 0 24 24\"\n",
              "     width=\"24px\">\n",
              "    <g>\n",
              "        <path d=\"M19 3H5c-1.1 0-2 .9-2 2v14c0 1.1.9 2 2 2h14c1.1 0 2-.9 2-2V5c0-1.1-.9-2-2-2zM9 17H7v-7h2v7zm4 0h-2V7h2v10zm4 0h-2v-4h2v4z\"/>\n",
              "    </g>\n",
              "</svg>\n",
              "  </button>\n",
              "\n",
              "<style>\n",
              "  .colab-df-quickchart {\n",
              "      --bg-color: #E8F0FE;\n",
              "      --fill-color: #1967D2;\n",
              "      --hover-bg-color: #E2EBFA;\n",
              "      --hover-fill-color: #174EA6;\n",
              "      --disabled-fill-color: #AAA;\n",
              "      --disabled-bg-color: #DDD;\n",
              "  }\n",
              "\n",
              "  [theme=dark] .colab-df-quickchart {\n",
              "      --bg-color: #3B4455;\n",
              "      --fill-color: #D2E3FC;\n",
              "      --hover-bg-color: #434B5C;\n",
              "      --hover-fill-color: #FFFFFF;\n",
              "      --disabled-bg-color: #3B4455;\n",
              "      --disabled-fill-color: #666;\n",
              "  }\n",
              "\n",
              "  .colab-df-quickchart {\n",
              "    background-color: var(--bg-color);\n",
              "    border: none;\n",
              "    border-radius: 50%;\n",
              "    cursor: pointer;\n",
              "    display: none;\n",
              "    fill: var(--fill-color);\n",
              "    height: 32px;\n",
              "    padding: 0;\n",
              "    width: 32px;\n",
              "  }\n",
              "\n",
              "  .colab-df-quickchart:hover {\n",
              "    background-color: var(--hover-bg-color);\n",
              "    box-shadow: 0 1px 2px rgba(60, 64, 67, 0.3), 0 1px 3px 1px rgba(60, 64, 67, 0.15);\n",
              "    fill: var(--button-hover-fill-color);\n",
              "  }\n",
              "\n",
              "  .colab-df-quickchart-complete:disabled,\n",
              "  .colab-df-quickchart-complete:disabled:hover {\n",
              "    background-color: var(--disabled-bg-color);\n",
              "    fill: var(--disabled-fill-color);\n",
              "    box-shadow: none;\n",
              "  }\n",
              "\n",
              "  .colab-df-spinner {\n",
              "    border: 2px solid var(--fill-color);\n",
              "    border-color: transparent;\n",
              "    border-bottom-color: var(--fill-color);\n",
              "    animation:\n",
              "      spin 1s steps(1) infinite;\n",
              "  }\n",
              "\n",
              "  @keyframes spin {\n",
              "    0% {\n",
              "      border-color: transparent;\n",
              "      border-bottom-color: var(--fill-color);\n",
              "      border-left-color: var(--fill-color);\n",
              "    }\n",
              "    20% {\n",
              "      border-color: transparent;\n",
              "      border-left-color: var(--fill-color);\n",
              "      border-top-color: var(--fill-color);\n",
              "    }\n",
              "    30% {\n",
              "      border-color: transparent;\n",
              "      border-left-color: var(--fill-color);\n",
              "      border-top-color: var(--fill-color);\n",
              "      border-right-color: var(--fill-color);\n",
              "    }\n",
              "    40% {\n",
              "      border-color: transparent;\n",
              "      border-right-color: var(--fill-color);\n",
              "      border-top-color: var(--fill-color);\n",
              "    }\n",
              "    60% {\n",
              "      border-color: transparent;\n",
              "      border-right-color: var(--fill-color);\n",
              "    }\n",
              "    80% {\n",
              "      border-color: transparent;\n",
              "      border-right-color: var(--fill-color);\n",
              "      border-bottom-color: var(--fill-color);\n",
              "    }\n",
              "    90% {\n",
              "      border-color: transparent;\n",
              "      border-bottom-color: var(--fill-color);\n",
              "    }\n",
              "  }\n",
              "</style>\n",
              "\n",
              "  <script>\n",
              "    async function quickchart(key) {\n",
              "      const quickchartButtonEl =\n",
              "        document.querySelector('#' + key + ' button');\n",
              "      quickchartButtonEl.disabled = true;  // To prevent multiple clicks.\n",
              "      quickchartButtonEl.classList.add('colab-df-spinner');\n",
              "      try {\n",
              "        const charts = await google.colab.kernel.invokeFunction(\n",
              "            'suggestCharts', [key], {});\n",
              "      } catch (error) {\n",
              "        console.error('Error during call to suggestCharts:', error);\n",
              "      }\n",
              "      quickchartButtonEl.classList.remove('colab-df-spinner');\n",
              "      quickchartButtonEl.classList.add('colab-df-quickchart-complete');\n",
              "    }\n",
              "    (() => {\n",
              "      let quickchartButtonEl =\n",
              "        document.querySelector('#df-821f6612-f579-4535-a418-3108f9441795 button');\n",
              "      quickchartButtonEl.style.display =\n",
              "        google.colab.kernel.accessAllowed ? 'block' : 'none';\n",
              "    })();\n",
              "  </script>\n",
              "</div>\n",
              "    </div>\n",
              "  </div>\n"
            ],
            "application/vnd.google.colaboratory.intrinsic+json": {
              "type": "dataframe",
              "variable_name": "data",
              "summary": "{\n  \"name\": \"data\",\n  \"rows\": 19794,\n  \"fields\": [\n    {\n      \"column\": \"MedInc\",\n      \"properties\": {\n        \"dtype\": \"number\",\n        \"std\": 0.17717933566702798,\n        \"min\": 0.0,\n        \"max\": 1.0000000000000002,\n        \"num_unique_values\": 12334,\n        \"samples\": [\n          0.39154391466619554,\n          0.6642079459375897,\n          0.2228307678717343\n        ],\n        \"semantic_type\": \"\",\n        \"description\": \"\"\n      }\n    },\n    {\n      \"column\": \"HouseAge\",\n      \"properties\": {\n        \"dtype\": \"number\",\n        \"std\": 0.24408273794828664,\n        \"min\": 0.0,\n        \"max\": 0.9999999999999999,\n        \"num_unique_values\": 52,\n        \"samples\": [\n          0.6666666666666666,\n          0.47058823529411764,\n          0.058823529411764705\n        ],\n        \"semantic_type\": \"\",\n        \"description\": \"\"\n      }\n    },\n    {\n      \"column\": \"AveRooms\",\n      \"properties\": {\n        \"dtype\": \"number\",\n        \"std\": 0.10529830991534306,\n        \"min\": 0.0,\n        \"max\": 1.0,\n        \"num_unique_values\": 18580,\n        \"samples\": [\n          0.4077771908340099,\n          0.3736224684160089,\n          0.21421166617056872\n        ],\n        \"semantic_type\": \"\",\n        \"description\": \"\"\n      }\n    },\n    {\n      \"column\": \"AveBedrms\",\n      \"properties\": {\n        \"dtype\": \"number\",\n        \"std\": 0.0620561010479867,\n        \"min\": 0.0,\n        \"max\": 1.0,\n        \"num_unique_values\": 13659,\n        \"samples\": [\n          0.33419927314057896,\n          0.3123628049540329,\n          0.42364742552151524\n        ],\n        \"semantic_type\": \"\",\n        \"description\": \"\"\n      }\n    },\n    {\n      \"column\": \"Population\",\n      \"properties\": {\n        \"dtype\": \"number\",\n        \"std\": 0.16856137990030826,\n        \"min\": 0.0,\n        \"max\": 1.0,\n        \"num_unique_values\": 3544,\n        \"samples\": [\n          0.7782392026578073,\n          0.3064784053156146,\n          0.3322259136212624\n        ],\n        \"semantic_type\": \"\",\n        \"description\": \"\"\n      }\n    },\n    {\n      \"column\": \"AveOccup\",\n      \"properties\": {\n        \"dtype\": \"number\",\n        \"std\": 0.026643235854617035,\n        \"min\": 0.0,\n        \"max\": 1.0,\n        \"num_unique_values\": 18129,\n        \"samples\": [\n          0.09218011354195658,\n          0.027124822500852266,\n          0.10936850181142287\n        ],\n        \"semantic_type\": \"\",\n        \"description\": \"\"\n      }\n    },\n    {\n      \"column\": \"Latitude\",\n      \"properties\": {\n        \"dtype\": \"number\",\n        \"std\": 0.22711097467762123,\n        \"min\": 0.0,\n        \"max\": 1.0,\n        \"num_unique_values\": 858,\n        \"samples\": [\n          0.7821466524973433,\n          0.20085015940488837,\n          0.5972369819341123\n        ],\n        \"semantic_type\": \"\",\n        \"description\": \"\"\n      }\n    },\n    {\n      \"column\": \"Longitude\",\n      \"properties\": {\n        \"dtype\": \"number\",\n        \"std\": 0.20447247685718023,\n        \"min\": 0.0,\n        \"max\": 1.0,\n        \"num_unique_values\": 834,\n        \"samples\": [\n          0.30102040816326436,\n          0.09387755102040707,\n          0.9020408163265294\n        ],\n        \"semantic_type\": \"\",\n        \"description\": \"\"\n      }\n    },\n    {\n      \"column\": \"target\",\n      \"properties\": {\n        \"dtype\": \"number\",\n        \"std\": 0,\n        \"min\": 0,\n        \"max\": 1,\n        \"num_unique_values\": 2,\n        \"samples\": [\n          0,\n          1\n        ],\n        \"semantic_type\": \"\",\n        \"description\": \"\"\n      }\n    }\n  ]\n}"
            }
          },
          "metadata": {},
          "execution_count": 9
        }
      ],
      "source": [
        "data"
      ]
    },
    {
      "cell_type": "code",
      "execution_count": 39,
      "id": "1b29901f",
      "metadata": {
        "id": "1b29901f"
      },
      "outputs": [],
      "source": [
        "# splitting dataframe 1/3 train 2/3 test\n",
        "df_train, df_test = train_test_split(data, test_size=0.20, random_state=42)"
      ]
    },
    {
      "cell_type": "code",
      "source": [
        "def calculate_tests(target_values, value):\n",
        "  MSE = mean_squared_error(target_values, value)\n",
        "  RMSE = math.sqrt(MSE)\n",
        "  print('Mean squared error = ', MSE)\n",
        "  print('Root Mean Square Error = ', RMSE)\n",
        "  print('Accuracy score = ', accuracy_score(target_values, value))\n",
        "  print('F1 = ', f1_score(target_values, value, average= 'macro'))\n",
        "  print('Precision = ', precision_score(target_values, value, average= 'macro'))\n",
        "  print('Recall = ', recall_score(target_values, value, average= 'macro'))\n",
        "  #confusion matrix\n",
        "  confusion_matrix = metrics.confusion_matrix(target_values, value)\n",
        "  cm_display = metrics.ConfusionMatrixDisplay(confusion_matrix = confusion_matrix, display_labels = [0, 1])\n",
        "  #confucion matrif for 3 target classes\n",
        "  #cm_display = metrics.ConfusionMatrixDisplay(confusion_matrix = confusion_matrix, display_labels = [0, 1, 2])\n",
        "  cm_display.plot()\n",
        "  plt.show()"
      ],
      "metadata": {
        "id": "Szc7qf7tPBqt"
      },
      "id": "Szc7qf7tPBqt",
      "execution_count": 9,
      "outputs": []
    },
    {
      "cell_type": "markdown",
      "source": [
        "Logistic Regression"
      ],
      "metadata": {
        "id": "5S5SURXWOth_"
      },
      "id": "5S5SURXWOth_"
    },
    {
      "cell_type": "code",
      "execution_count": 10,
      "id": "4cf53a04",
      "metadata": {
        "id": "4cf53a04"
      },
      "outputs": [],
      "source": [
        "# Reshaped for logistic regression function\n",
        "X = df_train[['MedInc', 'HouseAge', 'AveRooms', 'AveBedrms', 'Population', 'AveOccup', 'Latitude', 'Longitude']]\n",
        "y = df_train[[\"target\"]]"
      ]
    },
    {
      "cell_type": "code",
      "execution_count": 49,
      "id": "cd2c2d17",
      "metadata": {
        "id": "cd2c2d17",
        "outputId": "3da78f59-5294-411a-f667-1b89af6e48cb",
        "colab": {
          "base_uri": "https://localhost:8080/",
          "height": 605
        }
      },
      "outputs": [
        {
          "output_type": "stream",
          "name": "stderr",
          "text": [
            "/usr/local/lib/python3.12/dist-packages/sklearn/utils/validation.py:1408: DataConversionWarning: A column-vector y was passed when a 1d array was expected. Please change the shape of y to (n_samples, ), for example using ravel().\n",
            "  y = column_or_1d(y, warn=True)\n"
          ]
        },
        {
          "output_type": "stream",
          "name": "stdout",
          "text": [
            "Mean squared error =  0.13495421534575308\n",
            "Root Mean Square Error =  0.36736115111120976\n",
            "Accuracy score =  0.865045784654247\n",
            "F1 =  0.808325585929111\n",
            "Precision =  0.8424793836313894\n",
            "Recall =  0.7866592587073002\n"
          ]
        },
        {
          "output_type": "display_data",
          "data": {
            "text/plain": [
              "<Figure size 640x480 with 2 Axes>"
            ],
            "image/png": "[encoded data removed]"
          },
          "metadata": {}
        },
        {
          "output_type": "stream",
          "name": "stdout",
          "text": [
            "time: 0.003787585099538167\n"
          ]
        }
      ],
      "source": [
        "start_time = time.time()\n",
        "logr = linear_model.LogisticRegression()\n",
        "logr.fit(X,y)\n",
        "#predict for all input values\n",
        "predicted=logr.predict(X)\n",
        "df_train[\"predicted\"]=predicted\n",
        "# calculate tests for train dataset\n",
        "target_values = df_train[['target']].values\n",
        "value = df_train[['predicted']].values\n",
        "calculate_tests(target_values, value)\n",
        "print('time:', (time.time()-start_time)/60)"
      ]
    },
    {
      "cell_type": "code",
      "execution_count": 12,
      "id": "2e17b7cd",
      "metadata": {
        "id": "2e17b7cd",
        "outputId": "56751750-b9e0-4fe9-e4ab-3ff9be60affd",
        "colab": {
          "base_uri": "https://localhost:8080/"
        }
      },
      "outputs": [
        {
          "output_type": "stream",
          "name": "stdout",
          "text": [
            "[[ 10.73962047   1.84689197  -3.34078361   5.81000242   0.31916715\n",
            "  -16.14879871 -10.89033822 -11.47897216]] [2.75946328]\n"
          ]
        }
      ],
      "source": [
        "print(logr.coef_, logr.intercept_)"
      ]
    },
    {
      "cell_type": "code",
      "source": [
        "X_t = df_test[['MedInc', 'HouseAge', 'AveRooms', 'AveBedrms', 'Population', 'AveOccup', 'Latitude', 'Longitude']]\n",
        "y_t = df_test[[\"target\"]]"
      ],
      "metadata": {
        "id": "_yxClH-v7CBI"
      },
      "id": "_yxClH-v7CBI",
      "execution_count": 16,
      "outputs": []
    },
    {
      "cell_type": "code",
      "source": [
        "predicted=logr.predict(X_t)"
      ],
      "metadata": {
        "id": "3Sv1MdSc7V-6"
      },
      "id": "3Sv1MdSc7V-6",
      "execution_count": 17,
      "outputs": []
    },
    {
      "cell_type": "code",
      "source": [
        "df_test['predicted_test'] = predicted"
      ],
      "metadata": {
        "id": "9njwMwrG_Th9"
      },
      "id": "9njwMwrG_Th9",
      "execution_count": 18,
      "outputs": []
    },
    {
      "cell_type": "code",
      "source": [
        "# calculate tests for test data\n",
        "target_values = df_test[['target']].values\n",
        "value = df_test[['predicted_test']].values\n",
        "calculate_tests(target_values, value)"
      ],
      "metadata": {
        "colab": {
          "base_uri": "https://localhost:8080/",
          "height": 553
        },
        "id": "gWsWSSVMRwWq",
        "outputId": "c7f37940-fc80-4b6e-9042-cf09ae47222a"
      },
      "id": "gWsWSSVMRwWq",
      "execution_count": 19,
      "outputs": [
        {
          "output_type": "stream",
          "name": "stdout",
          "text": [
            "Mean squared error =  0.14043950492548624\n",
            "Root Mean Square Error =  0.3747525916194393\n",
            "Accuracy score =  0.8595604950745138\n",
            "F1 =  0.7936921576169557\n",
            "Precision =  0.8323401608687248\n",
            "Recall =  0.7703315229875628\n"
          ]
        },
        {
          "output_type": "display_data",
          "data": {
            "text/plain": [
              "<Figure size 640x480 with 2 Axes>"
            ],
            "image/png": "[encoded data removed]"
          },
          "metadata": {}
        }
      ]
    },
    {
      "cell_type": "markdown",
      "source": [
        "Random Forest"
      ],
      "metadata": {
        "id": "nVMsgK3tOgZ-"
      },
      "id": "nVMsgK3tOgZ-"
    },
    {
      "cell_type": "code",
      "source": [
        "from sklearn.ensemble import RandomForestClassifier\n",
        "from sklearn.datasets import make_classification"
      ],
      "metadata": {
        "id": "e0-hcjkZ6aAS"
      },
      "id": "e0-hcjkZ6aAS",
      "execution_count": 20,
      "outputs": []
    },
    {
      "cell_type": "code",
      "source": [
        "X = df_train[['MedInc', 'HouseAge', 'AveRooms', 'AveBedrms', 'Population', 'AveOccup', 'Latitude', 'Longitude']]\n",
        "y = df_train[[\"target\"]]"
      ],
      "metadata": {
        "id": "5gjAcYWGTpGI"
      },
      "id": "5gjAcYWGTpGI",
      "execution_count": 40,
      "outputs": []
    },
    {
      "cell_type": "code",
      "source": [
        "start_time = time.time()\n",
        "clf = RandomForestClassifier(max_depth=2, random_state=0)\n",
        "clf.fit(X, y)\n",
        "predicted=clf.predict(X)\n",
        "df_train[\"predicted\"]=predicted\n",
        "target_values = df_train[['target']].values\n",
        "value = df_train[['predicted']].values\n",
        "calculate_tests(target_values, value)\n",
        "print('time:', (time.time()-start_time)/60)"
      ],
      "metadata": {
        "colab": {
          "base_uri": "https://localhost:8080/",
          "height": 605
        },
        "id": "uL14ZsCm6hOY",
        "outputId": "3a1836df-cd8c-4e64-a7ea-a8fba3d04ee2"
      },
      "id": "uL14ZsCm6hOY",
      "execution_count": 48,
      "outputs": [
        {
          "output_type": "stream",
          "name": "stderr",
          "text": [
            "/usr/local/lib/python3.12/dist-packages/sklearn/base.py:1389: DataConversionWarning: A column-vector y was passed when a 1d array was expected. Please change the shape of y to (n_samples,), for example using ravel().\n",
            "  return fit_method(estimator, *args, **kwargs)\n"
          ]
        },
        {
          "output_type": "stream",
          "name": "stdout",
          "text": [
            "Mean squared error =  0.18800126302494474\n",
            "Root Mean Square Error =  0.43359112424603985\n",
            "Accuracy score =  0.8119987369750552\n",
            "F1 =  0.6702548544938046\n",
            "Precision =  0.8475390404187553\n",
            "Recall =  0.645894482659245\n"
          ]
        },
        {
          "output_type": "display_data",
          "data": {
            "text/plain": [
              "<Figure size 640x480 with 2 Axes>"
            ],
            "image/png": "[encoded data removed]"
          },
          "metadata": {}
        },
        {
          "output_type": "stream",
          "name": "stdout",
          "text": [
            "time: 0.018153635660807292\n"
          ]
        }
      ]
    },
    {
      "cell_type": "code",
      "source": [
        "X_t = df_test[['MedInc', 'HouseAge', 'AveRooms', 'AveBedrms', 'Population', 'AveOccup', 'Latitude', 'Longitude']]"
      ],
      "metadata": {
        "id": "3iok4FrKT4QV"
      },
      "id": "3iok4FrKT4QV",
      "execution_count": 44,
      "outputs": []
    },
    {
      "cell_type": "code",
      "source": [
        "predicted=clf.predict(X_t)\n",
        "df_test[\"predicted\"]=predicted"
      ],
      "metadata": {
        "id": "Om304ebY640h"
      },
      "id": "Om304ebY640h",
      "execution_count": 45,
      "outputs": []
    },
    {
      "cell_type": "code",
      "source": [
        "# calculate tests for test data\n",
        "target_values = df_test[['target']].values\n",
        "value = df_test[['predicted']].values\n",
        "calculate_tests(target_values, value)"
      ],
      "metadata": {
        "id": "BGbONHLG8_hw"
      },
      "id": "BGbONHLG8_hw",
      "execution_count": null,
      "outputs": []
    },
    {
      "cell_type": "markdown",
      "source": [
        "Naive Bayes"
      ],
      "metadata": {
        "id": "N-qOqS9CPdJX"
      },
      "id": "N-qOqS9CPdJX"
    },
    {
      "cell_type": "code",
      "source": [
        "from sklearn.naive_bayes import GaussianNB"
      ],
      "metadata": {
        "id": "kgJtSKXy8sbl"
      },
      "id": "kgJtSKXy8sbl",
      "execution_count": 27,
      "outputs": []
    },
    {
      "cell_type": "code",
      "source": [
        "X = df_train[['MedInc', 'HouseAge', 'AveRooms', 'AveBedrms', 'Population', 'AveOccup', 'Latitude', 'Longitude']]\n",
        "y = df_train[[\"target\"]]"
      ],
      "metadata": {
        "id": "lK5hU_kBUKsy"
      },
      "id": "lK5hU_kBUKsy",
      "execution_count": 28,
      "outputs": []
    },
    {
      "cell_type": "code",
      "source": [
        "start_time = time.time()\n",
        "gnb = GaussianNB()\n",
        "gnb.fit(X, y)\n",
        "predicted=gnb.predict(X)\n",
        "df_train[\"predicted\"]=predicted\n",
        "# calculate tests for train data\n",
        "target_values = df_train[['target']].values\n",
        "value = df_train[['predicted']].values\n",
        "calculate_tests(target_values, value)\n",
        "print('time:', (time.time()-start_time)/60)"
      ],
      "metadata": {
        "colab": {
          "base_uri": "https://localhost:8080/",
          "height": 605
        },
        "id": "Bs2lGXVa8sm7",
        "outputId": "903e7a37-1bd1-4bea-afbe-327222696563"
      },
      "id": "Bs2lGXVa8sm7",
      "execution_count": 50,
      "outputs": [
        {
          "output_type": "stream",
          "name": "stdout",
          "text": [
            "Mean squared error =  0.17865487843384906\n",
            "Root Mean Square Error =  0.42267585504006383\n",
            "Accuracy score =  0.8213451215661509\n",
            "F1 =  0.7549167803479445\n",
            "Precision =  0.7691082168085673\n",
            "Recall =  0.7442927957887866\n"
          ]
        },
        {
          "output_type": "stream",
          "name": "stderr",
          "text": [
            "/usr/local/lib/python3.12/dist-packages/sklearn/utils/validation.py:1408: DataConversionWarning: A column-vector y was passed when a 1d array was expected. Please change the shape of y to (n_samples, ), for example using ravel().\n",
            "  y = column_or_1d(y, warn=True)\n"
          ]
        },
        {
          "output_type": "display_data",
          "data": {
            "text/plain": [
              "<Figure size 640x480 with 2 Axes>"
            ],
            "image/png": "[encoded data removed]"
          },
          "metadata": {}
        },
        {
          "output_type": "stream",
          "name": "stdout",
          "text": [
            "time: 0.0024617632230122884\n"
          ]
        }
      ]
    },
    {
      "cell_type": "code",
      "source": [
        "predicted=gnb.predict(X_t)\n",
        "df_test[\"predicted\"]=predicted"
      ],
      "metadata": {
        "id": "Qde9i8BS8-uU"
      },
      "id": "Qde9i8BS8-uU",
      "execution_count": 51,
      "outputs": []
    },
    {
      "cell_type": "code",
      "source": [
        "# calculate tests for test data\n",
        "target_values = df_test[['target']].values\n",
        "value = df_test[['predicted']].values\n",
        "calculate_tests(target_values, value)"
      ],
      "metadata": {
        "colab": {
          "base_uri": "https://localhost:8080/",
          "height": 553
        },
        "id": "MOG7dOpk9ObL",
        "outputId": "db624161-0268-41d1-9e30-aea9afb6cb63"
      },
      "id": "MOG7dOpk9ObL",
      "execution_count": 52,
      "outputs": [
        {
          "output_type": "stream",
          "name": "stdout",
          "text": [
            "Mean squared error =  0.17984339479666583\n",
            "Root Mean Square Error =  0.42407946754902653\n",
            "Accuracy score =  0.8201566052033342\n",
            "F1 =  0.7485208198619099\n",
            "Precision =  0.7613217518361823\n",
            "Recall =  0.7386716656274954\n"
          ]
        },
        {
          "output_type": "display_data",
          "data": {
            "text/plain": [
              "<Figure size 640x480 with 2 Axes>"
            ],
            "image/png": "[encoded data removed]"
          },
          "metadata": {}
        }
      ]
    },
    {
      "cell_type": "code",
      "execution_count": null,
      "id": "1725f500",
      "metadata": {
        "id": "1725f500",
        "outputId": "5e144436-67b0-4988-d9b4-aa3c517f093e",
        "colab": {
          "base_uri": "https://localhost:8080/",
          "height": 424
        }
      },
      "outputs": [
        {
          "output_type": "execute_result",
          "data": {
            "text/plain": [
              "         MedInc  HouseAge  AveRooms  AveBedrms  Population  AveOccup  \\\n",
              "17298  0.882500  0.666667  0.511942   0.324788    0.386836  0.058391   \n",
              "17930  0.351737  0.176471  0.506048   0.367698    0.219684  0.075735   \n",
              "4031   0.209635  0.843137  0.264338   0.377597    0.249377  0.082824   \n",
              "3699   0.334092  0.235294  0.241546   0.313634    0.387043  0.047524   \n",
              "17294  0.980930  0.392157  0.676985   0.333466    0.375415  0.074810   \n",
              "...         ...       ...       ...        ...         ...       ...   \n",
              "9727   0.396347  0.666667  0.381133   0.298116    0.218646  0.064309   \n",
              "7489   0.241415  0.352941  0.268994   0.300560    0.253115  0.058836   \n",
              "12071  0.163844  0.705882  0.339651   0.312070    0.186669  0.053721   \n",
              "17201  0.470451  0.686275  0.374813   0.251863    0.153032  0.046199   \n",
              "17345  0.682615  0.470588  0.473989   0.305631    0.347799  0.061641   \n",
              "\n",
              "       Latitude  Longitude  target  predicted_test  predicted  \n",
              "17298  0.497343   0.243878       1               1          1  \n",
              "17930  0.859724   0.205102       0               0          0  \n",
              "4031   0.166844   0.629592       0               0          0  \n",
              "3699   0.176408   0.601020       0               0          0  \n",
              "17294  0.497343   0.246939       1               1          1  \n",
              "...         ...        ...     ...             ...        ...  \n",
              "9727   0.148778   0.651020       0               0          0  \n",
              "7489   0.147715   0.634694       0               0          0  \n",
              "12071  0.636557   0.292857       0               0          0  \n",
              "17201  0.509033   0.244898       1               1          0  \n",
              "17345  0.505845   0.235714       1               1          1  \n",
              "\n",
              "[13065 rows x 11 columns]"
            ],
            "text/html": [
              "\n",
              "  <div id=\"df-24f05696-f939-454b-9509-c69036e6f83f\" class=\"colab-df-container\">\n",
              "    <div>\n",
              "<style scoped>\n",
              "    .dataframe tbody tr th:only-of-type {\n",
              "        vertical-align: middle;\n",
              "    }\n",
              "\n",
              "    .dataframe tbody tr th {\n",
              "        vertical-align: top;\n",
              "    }\n",
              "\n",
              "    .dataframe thead th {\n",
              "        text-align: right;\n",
              "    }\n",
              "</style>\n",
              "<table border=\"1\" class=\"dataframe\">\n",
              "  <thead>\n",
              "    <tr style=\"text-align: right;\">\n",
              "      <th></th>\n",
              "      <th>MedInc</th>\n",
              "      <th>HouseAge</th>\n",
              "      <th>AveRooms</th>\n",
              "      <th>AveBedrms</th>\n",
              "      <th>Population</th>\n",
              "      <th>AveOccup</th>\n",
              "      <th>Latitude</th>\n",
              "      <th>Longitude</th>\n",
              "      <th>target</th>\n",
              "      <th>predicted_test</th>\n",
              "      <th>predicted</th>\n",
              "    </tr>\n",
              "  </thead>\n",
              "  <tbody>\n",
              "    <tr>\n",
              "      <th>17298</th>\n",
              "      <td>0.882500</td>\n",
              "      <td>0.666667</td>\n",
              "      <td>0.511942</td>\n",
              "      <td>0.324788</td>\n",
              "      <td>0.386836</td>\n",
              "      <td>0.058391</td>\n",
              "      <td>0.497343</td>\n",
              "      <td>0.243878</td>\n",
              "      <td>1</td>\n",
              "      <td>1</td>\n",
              "      <td>1</td>\n",
              "    </tr>\n",
              "    <tr>\n",
              "      <th>17930</th>\n",
              "      <td>0.351737</td>\n",
              "      <td>0.176471</td>\n",
              "      <td>0.506048</td>\n",
              "      <td>0.367698</td>\n",
              "      <td>0.219684</td>\n",
              "      <td>0.075735</td>\n",
              "      <td>0.859724</td>\n",
              "      <td>0.205102</td>\n",
              "      <td>0</td>\n",
              "      <td>0</td>\n",
              "      <td>0</td>\n",
              "    </tr>\n",
              "    <tr>\n",
              "      <th>4031</th>\n",
              "      <td>0.209635</td>\n",
              "      <td>0.843137</td>\n",
              "      <td>0.264338</td>\n",
              "      <td>0.377597</td>\n",
              "      <td>0.249377</td>\n",
              "      <td>0.082824</td>\n",
              "      <td>0.166844</td>\n",
              "      <td>0.629592</td>\n",
              "      <td>0</td>\n",
              "      <td>0</td>\n",
              "      <td>0</td>\n",
              "    </tr>\n",
              "    <tr>\n",
              "      <th>3699</th>\n",
              "      <td>0.334092</td>\n",
              "      <td>0.235294</td>\n",
              "      <td>0.241546</td>\n",
              "      <td>0.313634</td>\n",
              "      <td>0.387043</td>\n",
              "      <td>0.047524</td>\n",
              "      <td>0.176408</td>\n",
              "      <td>0.601020</td>\n",
              "      <td>0</td>\n",
              "      <td>0</td>\n",
              "      <td>0</td>\n",
              "    </tr>\n",
              "    <tr>\n",
              "      <th>17294</th>\n",
              "      <td>0.980930</td>\n",
              "      <td>0.392157</td>\n",
              "      <td>0.676985</td>\n",
              "      <td>0.333466</td>\n",
              "      <td>0.375415</td>\n",
              "      <td>0.074810</td>\n",
              "      <td>0.497343</td>\n",
              "      <td>0.246939</td>\n",
              "      <td>1</td>\n",
              "      <td>1</td>\n",
              "      <td>1</td>\n",
              "    </tr>\n",
              "    <tr>\n",
              "      <th>...</th>\n",
              "      <td>...</td>\n",
              "      <td>...</td>\n",
              "      <td>...</td>\n",
              "      <td>...</td>\n",
              "      <td>...</td>\n",
              "      <td>...</td>\n",
              "      <td>...</td>\n",
              "      <td>...</td>\n",
              "      <td>...</td>\n",
              "      <td>...</td>\n",
              "      <td>...</td>\n",
              "    </tr>\n",
              "    <tr>\n",
              "      <th>9727</th>\n",
              "      <td>0.396347</td>\n",
              "      <td>0.666667</td>\n",
              "      <td>0.381133</td>\n",
              "      <td>0.298116</td>\n",
              "      <td>0.218646</td>\n",
              "      <td>0.064309</td>\n",
              "      <td>0.148778</td>\n",
              "      <td>0.651020</td>\n",
              "      <td>0</td>\n",
              "      <td>0</td>\n",
              "      <td>0</td>\n",
              "    </tr>\n",
              "    <tr>\n",
              "      <th>7489</th>\n",
              "      <td>0.241415</td>\n",
              "      <td>0.352941</td>\n",
              "      <td>0.268994</td>\n",
              "      <td>0.300560</td>\n",
              "      <td>0.253115</td>\n",
              "      <td>0.058836</td>\n",
              "      <td>0.147715</td>\n",
              "      <td>0.634694</td>\n",
              "      <td>0</td>\n",
              "      <td>0</td>\n",
              "      <td>0</td>\n",
              "    </tr>\n",
              "    <tr>\n",
              "      <th>12071</th>\n",
              "      <td>0.163844</td>\n",
              "      <td>0.705882</td>\n",
              "      <td>0.339651</td>\n",
              "      <td>0.312070</td>\n",
              "      <td>0.186669</td>\n",
              "      <td>0.053721</td>\n",
              "      <td>0.636557</td>\n",
              "      <td>0.292857</td>\n",
              "      <td>0</td>\n",
              "      <td>0</td>\n",
              "      <td>0</td>\n",
              "    </tr>\n",
              "    <tr>\n",
              "      <th>17201</th>\n",
              "      <td>0.470451</td>\n",
              "      <td>0.686275</td>\n",
              "      <td>0.374813</td>\n",
              "      <td>0.251863</td>\n",
              "      <td>0.153032</td>\n",
              "      <td>0.046199</td>\n",
              "      <td>0.509033</td>\n",
              "      <td>0.244898</td>\n",
              "      <td>1</td>\n",
              "      <td>1</td>\n",
              "      <td>0</td>\n",
              "    </tr>\n",
              "    <tr>\n",
              "      <th>17345</th>\n",
              "      <td>0.682615</td>\n",
              "      <td>0.470588</td>\n",
              "      <td>0.473989</td>\n",
              "      <td>0.305631</td>\n",
              "      <td>0.347799</td>\n",
              "      <td>0.061641</td>\n",
              "      <td>0.505845</td>\n",
              "      <td>0.235714</td>\n",
              "      <td>1</td>\n",
              "      <td>1</td>\n",
              "      <td>1</td>\n",
              "    </tr>\n",
              "  </tbody>\n",
              "</table>\n",
              "<p>13065 rows × 11 columns</p>\n",
              "</div>\n",
              "    <div class=\"colab-df-buttons\">\n",
              "\n",
              "  <div class=\"colab-df-container\">\n",
              "    <button class=\"colab-df-convert\" onclick=\"convertToInteractive('df-24f05696-f939-454b-9509-c69036e6f83f')\"\n",
              "            title=\"Convert this dataframe to an interactive table.\"\n",
              "            style=\"display:none;\">\n",
              "\n",
              "  <svg xmlns=\"http://www.w3.org/2000/svg\" height=\"24px\" viewBox=\"0 -960 960 960\">\n",
              "    <path d=\"M120-120v-720h720v720H120Zm60-500h600v-160H180v160Zm220 220h160v-160H400v160Zm0 220h160v-160H400v160ZM180-400h160v-160H180v160Zm440 0h160v-160H620v160ZM180-180h160v-160H180v160Zm440 0h160v-160H620v160Z\"/>\n",
              "  </svg>\n",
              "    </button>\n",
              "\n",
              "  <style>\n",
              "    .colab-df-container {\n",
              "      display:flex;\n",
              "      gap: 12px;\n",
              "    }\n",
              "\n",
              "    .colab-df-convert {\n",
              "      background-color: #E8F0FE;\n",
              "      border: none;\n",
              "      border-radius: 50%;\n",
              "      cursor: pointer;\n",
              "      display: none;\n",
              "      fill: #1967D2;\n",
              "      height: 32px;\n",
              "      padding: 0 0 0 0;\n",
              "      width: 32px;\n",
              "    }\n",
              "\n",
              "    .colab-df-convert:hover {\n",
              "      background-color: #E2EBFA;\n",
              "      box-shadow: 0px 1px 2px rgba(60, 64, 67, 0.3), 0px 1px 3px 1px rgba(60, 64, 67, 0.15);\n",
              "      fill: #174EA6;\n",
              "    }\n",
              "\n",
              "    .colab-df-buttons div {\n",
              "      margin-bottom: 4px;\n",
              "    }\n",
              "\n",
              "    [theme=dark] .colab-df-convert {\n",
              "      background-color: #3B4455;\n",
              "      fill: #D2E3FC;\n",
              "    }\n",
              "\n",
              "    [theme=dark] .colab-df-convert:hover {\n",
              "      background-color: #434B5C;\n",
              "      box-shadow: 0px 1px 3px 1px rgba(0, 0, 0, 0.15);\n",
              "      filter: drop-shadow(0px 1px 2px rgba(0, 0, 0, 0.3));\n",
              "      fill: #FFFFFF;\n",
              "    }\n",
              "  </style>\n",
              "\n",
              "    <script>\n",
              "      const buttonEl =\n",
              "        document.querySelector('#df-24f05696-f939-454b-9509-c69036e6f83f button.colab-df-convert');\n",
              "      buttonEl.style.display =\n",
              "        google.colab.kernel.accessAllowed ? 'block' : 'none';\n",
              "\n",
              "      async function convertToInteractive(key) {\n",
              "        const element = document.querySelector('#df-24f05696-f939-454b-9509-c69036e6f83f');\n",
              "        const dataTable =\n",
              "          await google.colab.kernel.invokeFunction('convertToInteractive',\n",
              "                                                    [key], {});\n",
              "        if (!dataTable) return;\n",
              "\n",
              "        const docLinkHtml = 'Like what you see? Visit the ' +\n",
              "          '<a target=\"_blank\" href=https://colab.research.google.com/notebooks/data_table.ipynb>data table notebook</a>'\n",
              "          + ' to learn more about interactive tables.';\n",
              "        element.innerHTML = '';\n",
              "        dataTable['output_type'] = 'display_data';\n",
              "        await google.colab.output.renderOutput(dataTable, element);\n",
              "        const docLink = document.createElement('div');\n",
              "        docLink.innerHTML = docLinkHtml;\n",
              "        element.appendChild(docLink);\n",
              "      }\n",
              "    </script>\n",
              "  </div>\n",
              "\n",
              "\n",
              "<div id=\"df-8d05b1e1-4071-4fe5-b4b8-ec8e96d469d6\">\n",
              "  <button class=\"colab-df-quickchart\" onclick=\"quickchart('df-8d05b1e1-4071-4fe5-b4b8-ec8e96d469d6')\"\n",
              "            title=\"Suggest charts\"\n",
              "            style=\"display:none;\">\n",
              "\n",
              "<svg xmlns=\"http://www.w3.org/2000/svg\" height=\"24px\"viewBox=\"0 0 24 24\"\n",
              "     width=\"24px\">\n",
              "    <g>\n",
              "        <path d=\"M19 3H5c-1.1 0-2 .9-2 2v14c0 1.1.9 2 2 2h14c1.1 0 2-.9 2-2V5c0-1.1-.9-2-2-2zM9 17H7v-7h2v7zm4 0h-2V7h2v10zm4 0h-2v-4h2v4z\"/>\n",
              "    </g>\n",
              "</svg>\n",
              "  </button>\n",
              "\n",
              "<style>\n",
              "  .colab-df-quickchart {\n",
              "      --bg-color: #E8F0FE;\n",
              "      --fill-color: #1967D2;\n",
              "      --hover-bg-color: #E2EBFA;\n",
              "      --hover-fill-color: #174EA6;\n",
              "      --disabled-fill-color: #AAA;\n",
              "      --disabled-bg-color: #DDD;\n",
              "  }\n",
              "\n",
              "  [theme=dark] .colab-df-quickchart {\n",
              "      --bg-color: #3B4455;\n",
              "      --fill-color: #D2E3FC;\n",
              "      --hover-bg-color: #434B5C;\n",
              "      --hover-fill-color: #FFFFFF;\n",
              "      --disabled-bg-color: #3B4455;\n",
              "      --disabled-fill-color: #666;\n",
              "  }\n",
              "\n",
              "  .colab-df-quickchart {\n",
              "    background-color: var(--bg-color);\n",
              "    border: none;\n",
              "    border-radius: 50%;\n",
              "    cursor: pointer;\n",
              "    display: none;\n",
              "    fill: var(--fill-color);\n",
              "    height: 32px;\n",
              "    padding: 0;\n",
              "    width: 32px;\n",
              "  }\n",
              "\n",
              "  .colab-df-quickchart:hover {\n",
              "    background-color: var(--hover-bg-color);\n",
              "    box-shadow: 0 1px 2px rgba(60, 64, 67, 0.3), 0 1px 3px 1px rgba(60, 64, 67, 0.15);\n",
              "    fill: var(--button-hover-fill-color);\n",
              "  }\n",
              "\n",
              "  .colab-df-quickchart-complete:disabled,\n",
              "  .colab-df-quickchart-complete:disabled:hover {\n",
              "    background-color: var(--disabled-bg-color);\n",
              "    fill: var(--disabled-fill-color);\n",
              "    box-shadow: none;\n",
              "  }\n",
              "\n",
              "  .colab-df-spinner {\n",
              "    border: 2px solid var(--fill-color);\n",
              "    border-color: transparent;\n",
              "    border-bottom-color: var(--fill-color);\n",
              "    animation:\n",
              "      spin 1s steps(1) infinite;\n",
              "  }\n",
              "\n",
              "  @keyframes spin {\n",
              "    0% {\n",
              "      border-color: transparent;\n",
              "      border-bottom-color: var(--fill-color);\n",
              "      border-left-color: var(--fill-color);\n",
              "    }\n",
              "    20% {\n",
              "      border-color: transparent;\n",
              "      border-left-color: var(--fill-color);\n",
              "      border-top-color: var(--fill-color);\n",
              "    }\n",
              "    30% {\n",
              "      border-color: transparent;\n",
              "      border-left-color: var(--fill-color);\n",
              "      border-top-color: var(--fill-color);\n",
              "      border-right-color: var(--fill-color);\n",
              "    }\n",
              "    40% {\n",
              "      border-color: transparent;\n",
              "      border-right-color: var(--fill-color);\n",
              "      border-top-color: var(--fill-color);\n",
              "    }\n",
              "    60% {\n",
              "      border-color: transparent;\n",
              "      border-right-color: var(--fill-color);\n",
              "    }\n",
              "    80% {\n",
              "      border-color: transparent;\n",
              "      border-right-color: var(--fill-color);\n",
              "      border-bottom-color: var(--fill-color);\n",
              "    }\n",
              "    90% {\n",
              "      border-color: transparent;\n",
              "      border-bottom-color: var(--fill-color);\n",
              "    }\n",
              "  }\n",
              "</style>\n",
              "\n",
              "  <script>\n",
              "    async function quickchart(key) {\n",
              "      const quickchartButtonEl =\n",
              "        document.querySelector('#' + key + ' button');\n",
              "      quickchartButtonEl.disabled = true;  // To prevent multiple clicks.\n",
              "      quickchartButtonEl.classList.add('colab-df-spinner');\n",
              "      try {\n",
              "        const charts = await google.colab.kernel.invokeFunction(\n",
              "            'suggestCharts', [key], {});\n",
              "      } catch (error) {\n",
              "        console.error('Error during call to suggestCharts:', error);\n",
              "      }\n",
              "      quickchartButtonEl.classList.remove('colab-df-spinner');\n",
              "      quickchartButtonEl.classList.add('colab-df-quickchart-complete');\n",
              "    }\n",
              "    (() => {\n",
              "      let quickchartButtonEl =\n",
              "        document.querySelector('#df-8d05b1e1-4071-4fe5-b4b8-ec8e96d469d6 button');\n",
              "      quickchartButtonEl.style.display =\n",
              "        google.colab.kernel.accessAllowed ? 'block' : 'none';\n",
              "    })();\n",
              "  </script>\n",
              "</div>\n",
              "    </div>\n",
              "  </div>\n"
            ],
            "application/vnd.google.colaboratory.intrinsic+json": {
              "type": "dataframe",
              "variable_name": "df_test",
              "summary": "{\n  \"name\": \"df_test\",\n  \"rows\": 13065,\n  \"fields\": [\n    {\n      \"column\": \"MedInc\",\n      \"properties\": {\n        \"dtype\": \"number\",\n        \"std\": 0.17710371107050493,\n        \"min\": 0.0,\n        \"max\": 1.0000000000000002,\n        \"num_unique_values\": 8966,\n        \"samples\": [\n          0.3109030277599877,\n          0.52094697555266,\n          0.5124555553101742\n        ],\n        \"semantic_type\": \"\",\n        \"description\": \"\"\n      }\n    },\n    {\n      \"column\": \"HouseAge\",\n      \"properties\": {\n        \"dtype\": \"number\",\n        \"std\": 0.24390957064450597,\n        \"min\": 0.0,\n        \"max\": 0.9999999999999999,\n        \"num_unique_values\": 52,\n        \"samples\": [\n          0.6470588235294117,\n          0.27450980392156865,\n          0.37254901960784315\n        ],\n        \"semantic_type\": \"\",\n        \"description\": \"\"\n      }\n    },\n    {\n      \"column\": \"AveRooms\",\n      \"properties\": {\n        \"dtype\": \"number\",\n        \"std\": 0.1060393316020242,\n        \"min\": 0.0,\n        \"max\": 0.9945908218461001,\n        \"num_unique_values\": 12483,\n        \"samples\": [\n          0.45562135010413685,\n          0.35050251736299065,\n          0.3042671031918287\n        ],\n        \"semantic_type\": \"\",\n        \"description\": \"\"\n      }\n    },\n    {\n      \"column\": \"AveBedrms\",\n      \"properties\": {\n        \"dtype\": \"number\",\n        \"std\": 0.06368762477719235,\n        \"min\": 0.0,\n        \"max\": 1.0,\n        \"num_unique_values\": 9816,\n        \"samples\": [\n          0.2867170392132876,\n          0.35579444840072694,\n          0.34440066230896604\n        ],\n        \"semantic_type\": \"\",\n        \"description\": \"\"\n      }\n    },\n    {\n      \"column\": \"Population\",\n      \"properties\": {\n        \"dtype\": \"number\",\n        \"std\": 0.16784430222406826,\n        \"min\": 0.0,\n        \"max\": 1.0,\n        \"num_unique_values\": 3177,\n        \"samples\": [\n          0.3837209302325581,\n          0.18376245847176081,\n          0.1254152823920266\n        ],\n        \"semantic_type\": \"\",\n        \"description\": \"\"\n      }\n    },\n    {\n      \"column\": \"AveOccup\",\n      \"properties\": {\n        \"dtype\": \"number\",\n        \"std\": 0.027252563974183602,\n        \"min\": 0.0,\n        \"max\": 1.0,\n        \"num_unique_values\": 12275,\n        \"samples\": [\n          0.06912719323430867,\n          0.07910573933546149,\n          0.03874065323088248\n        ],\n        \"semantic_type\": \"\",\n        \"description\": \"\"\n      }\n    },\n    {\n      \"column\": \"Latitude\",\n      \"properties\": {\n        \"dtype\": \"number\",\n        \"std\": 0.22618245802313977,\n        \"min\": 0.0,\n        \"max\": 1.0,\n        \"num_unique_values\": 823,\n        \"samples\": [\n          0.38257173219978746,\n          0.3634431455897982,\n          0.11902231668437802\n        ],\n        \"semantic_type\": \"\",\n        \"description\": \"\"\n      }\n    },\n    {\n      \"column\": \"Longitude\",\n      \"properties\": {\n        \"dtype\": \"number\",\n        \"std\": 0.20413538939514278,\n        \"min\": 0.005102040816327147,\n        \"max\": 0.9989795918367346,\n        \"num_unique_values\": 800,\n        \"samples\": [\n          0.42244897959183625,\n          0.49489795918367285,\n          0.22142857142856975\n        ],\n        \"semantic_type\": \"\",\n        \"description\": \"\"\n      }\n    },\n    {\n      \"column\": \"target\",\n      \"properties\": {\n        \"dtype\": \"number\",\n        \"std\": 0,\n        \"min\": 0,\n        \"max\": 1,\n        \"num_unique_values\": 2,\n        \"samples\": [\n          0,\n          1\n        ],\n        \"semantic_type\": \"\",\n        \"description\": \"\"\n      }\n    },\n    {\n      \"column\": \"predicted_test\",\n      \"properties\": {\n        \"dtype\": \"number\",\n        \"std\": 0,\n        \"min\": 0,\n        \"max\": 1,\n        \"num_unique_values\": 2,\n        \"samples\": [\n          0,\n          1\n        ],\n        \"semantic_type\": \"\",\n        \"description\": \"\"\n      }\n    },\n    {\n      \"column\": \"predicted\",\n      \"properties\": {\n        \"dtype\": \"number\",\n        \"std\": 0,\n        \"min\": 0,\n        \"max\": 1,\n        \"num_unique_values\": 2,\n        \"samples\": [\n          0,\n          1\n        ],\n        \"semantic_type\": \"\",\n        \"description\": \"\"\n      }\n    }\n  ]\n}"
            }
          },
          "metadata": {},
          "execution_count": 35
        }
      ],
      "source": [
        "df_test"
      ]
    }
  ],
  "metadata": {
    "kernelspec": {
      "display_name": "Python 3 (ipykernel)",
      "language": "python",
      "name": "python3"
    },
    "language_info": {
      "codemirror_mode": {
        "name": "ipython",
        "version": 3
      },
      "file_extension": ".py",
      "mimetype": "text/x-python",
      "name": "python",
      "nbconvert_exporter": "python",
      "pygments_lexer": "ipython3",
      "version": "3.9.7"
    },
    "colab": {
      "provenance": [],
      "include_colab_link": true
    }
  },
  "nbformat": 4,
  "nbformat_minor": 5
}