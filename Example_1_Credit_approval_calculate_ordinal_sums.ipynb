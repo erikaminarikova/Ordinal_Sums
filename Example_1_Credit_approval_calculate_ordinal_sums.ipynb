{
  "cells": [
    {
      "cell_type": "markdown",
      "metadata": {
        "id": "view-in-github",
        "colab_type": "text"
      },
      "source": [
        "<a href=\"https://colab.research.google.com/github/erikaminarikova/Ordinal_Sums/blob/main/Example_1_Credit_approval_calculate_ordinal_sums.ipynb\" target=\"_parent\"><img src=\"https://colab.research.google.com/assets/colab-badge.svg\" alt=\"Open In Colab\"/></a>"
      ]
    },
    {
      "cell_type": "code",
      "source": [
        "from google.colab import drive\n",
        "drive.mount('/content/drive')"
      ],
      "metadata": {
        "colab": {
          "base_uri": "https://localhost:8080/"
        },
        "id": "dZ1sc4lUzNvO",
        "outputId": "0cfbf572-16c3-4a55-c5c0-9608e7bdb2f7"
      },
      "id": "dZ1sc4lUzNvO",
      "execution_count": 1,
      "outputs": [
        {
          "output_type": "stream",
          "name": "stdout",
          "text": [
            "Mounted at /content/drive\n"
          ]
        }
      ]
    },
    {
      "cell_type": "code",
      "source": [
        "import pandas as pd"
      ],
      "metadata": {
        "id": "Nhdnyyj3znKg"
      },
      "id": "Nhdnyyj3znKg",
      "execution_count": 2,
      "outputs": []
    },
    {
      "cell_type": "code",
      "execution_count": 3,
      "id": "5df6994c",
      "metadata": {
        "id": "5df6994c"
      },
      "outputs": [],
      "source": [
        "# ordinal sums functions\n",
        "\n",
        "# defining functions for individual classes\n",
        "def yes_function(x: float, y: float, a: float) -> float:\n",
        "  return min(x + y - a, 1)\n",
        "\n",
        "def no_function(x: float, y: float, a: float) -> float:\n",
        "  return max(x + y - a, 0)\n",
        "\n",
        "def maybe_function(x: float, y: float, a:float) -> float:\n",
        "  return x + y - a\n",
        "\n",
        "# defining function for classification: deviding values according thir value to which fuction we use\n",
        "def classification(x: float, y: float, a: float) -> float:\n",
        "    if x<a and y<a:\n",
        "        value = no_function(x,y,a)\n",
        "    elif x>a and y>a:\n",
        "        value = yes_function(x,y,a)\n",
        "    else:\n",
        "        value = maybe_function(x,y,a)\n",
        "    return round(value,2)"
      ]
    },
    {
      "cell_type": "code",
      "source": [
        "df=pd.read_csv('/content/drive/MyDrive/Colab Notebooks/data/luk_input.csv',sep=\";\")"
      ],
      "metadata": {
        "id": "AJwAw4M7zUOz"
      },
      "id": "AJwAw4M7zUOz",
      "execution_count": 4,
      "outputs": []
    },
    {
      "cell_type": "code",
      "execution_count": 6,
      "id": "aa03e66d",
      "metadata": {
        "colab": {
          "base_uri": "https://localhost:8080/"
        },
        "id": "aa03e66d",
        "outputId": "17540c4a-c7d7-4c0d-dfd3-f6806e8b4e59"
      },
      "outputs": [
        {
          "output_type": "stream",
          "name": "stdout",
          "text": [
            "       x     y  result_neutral\n",
            "0   0.00  0.00            0.00\n",
            "1   0.25  0.23            0.00\n",
            "2   0.25  0.35            0.10\n",
            "3   0.42  0.96            0.88\n",
            "4   0.00  0.50            0.00\n",
            "5   1.00  0.00            0.50\n",
            "6   0.02  0.98            0.50\n",
            "7   0.80  0.55            0.85\n",
            "8   0.80  0.70            1.00\n",
            "9   0.96  0.69            1.00\n",
            "10  1.00  1.00            1.00\n"
          ]
        }
      ],
      "source": [
        "# calculate the results with ordinal sums\n",
        "df['result_neutral'] = df.apply(lambda row: classification(row['x'], row['y'], 0.5), axis = 1)\n",
        "\n",
        "print(df)\n"
      ]
    },
    {
      "cell_type": "code",
      "source": [
        "df.to_csv('/content/drive/MyDrive/Colab Notebooks/data/credit_data_output.csv')"
      ],
      "metadata": {
        "id": "Vkg3Px33BnCt"
      },
      "id": "Vkg3Px33BnCt",
      "execution_count": null,
      "outputs": []
    },
    {
      "cell_type": "code",
      "execution_count": null,
      "id": "1ade98a5",
      "metadata": {
        "id": "1ade98a5"
      },
      "outputs": [],
      "source": []
    }
  ],
  "metadata": {
    "kernelspec": {
      "display_name": "Python 3 (ipykernel)",
      "language": "python",
      "name": "python3"
    },
    "language_info": {
      "codemirror_mode": {
        "name": "ipython",
        "version": 3
      },
      "file_extension": ".py",
      "mimetype": "text/x-python",
      "name": "python",
      "nbconvert_exporter": "python",
      "pygments_lexer": "ipython3",
      "version": "3.9.7"
    },
    "colab": {
      "provenance": [],
      "include_colab_link": true
    }
  },
  "nbformat": 4,
  "nbformat_minor": 5
}