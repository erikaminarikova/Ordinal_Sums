{
  "nbformat": 4,
  "nbformat_minor": 0,
  "metadata": {
    "colab": {
      "provenance": [],
      "include_colab_link": true
    },
    "kernelspec": {
      "name": "python3",
      "display_name": "Python 3"
    },
    "language_info": {
      "name": "python"
    }
  },
  "cells": [
    {
      "cell_type": "markdown",
      "metadata": {
        "id": "view-in-github",
        "colab_type": "text"
      },
      "source": [
        "<a href=\"https://colab.research.google.com/github/erikaminarikova/Ordinal_Sums/blob/main/example_8_ordinal_sums_testing_data_2classes_different_learning_methods.ipynb\" target=\"_parent\"><img src=\"https://colab.research.google.com/assets/colab-badge.svg\" alt=\"Open In Colab\"/></a>"
      ]
    },
    {
      "cell_type": "code",
      "source": [
        "!pip install pygad"
      ],
      "metadata": {
        "colab": {
          "base_uri": "https://localhost:8080/"
        },
        "id": "6A055A6Tbcsk",
        "outputId": "300a88a7-10da-49bc-d88d-7545216d0182"
      },
      "execution_count": 1,
      "outputs": [
        {
          "output_type": "stream",
          "name": "stdout",
          "text": [
            "Collecting pygad\n",
            "  Downloading pygad-3.5.0-py3-none-any.whl.metadata (20 kB)\n",
            "Requirement already satisfied: cloudpickle in /usr/local/lib/python3.12/dist-packages (from pygad) (3.1.1)\n",
            "Requirement already satisfied: matplotlib in /usr/local/lib/python3.12/dist-packages (from pygad) (3.10.0)\n",
            "Requirement already satisfied: numpy in /usr/local/lib/python3.12/dist-packages (from pygad) (2.0.2)\n",
            "Requirement already satisfied: contourpy>=1.0.1 in /usr/local/lib/python3.12/dist-packages (from matplotlib->pygad) (1.3.3)\n",
            "Requirement already satisfied: cycler>=0.10 in /usr/local/lib/python3.12/dist-packages (from matplotlib->pygad) (0.12.1)\n",
            "Requirement already satisfied: fonttools>=4.22.0 in /usr/local/lib/python3.12/dist-packages (from matplotlib->pygad) (4.59.1)\n",
            "Requirement already satisfied: kiwisolver>=1.3.1 in /usr/local/lib/python3.12/dist-packages (from matplotlib->pygad) (1.4.9)\n",
            "Requirement already satisfied: packaging>=20.0 in /usr/local/lib/python3.12/dist-packages (from matplotlib->pygad) (25.0)\n",
            "Requirement already satisfied: pillow>=8 in /usr/local/lib/python3.12/dist-packages (from matplotlib->pygad) (11.3.0)\n",
            "Requirement already satisfied: pyparsing>=2.3.1 in /usr/local/lib/python3.12/dist-packages (from matplotlib->pygad) (3.2.3)\n",
            "Requirement already satisfied: python-dateutil>=2.7 in /usr/local/lib/python3.12/dist-packages (from matplotlib->pygad) (2.9.0.post0)\n",
            "Requirement already satisfied: six>=1.5 in /usr/local/lib/python3.12/dist-packages (from python-dateutil>=2.7->matplotlib->pygad) (1.17.0)\n",
            "Downloading pygad-3.5.0-py3-none-any.whl (89 kB)\n",
            "\u001b[2K   \u001b[90m━━━━━━━━━━━━━━━━━━━━━━━━━━━━━━━━━━━━━━━━\u001b[0m \u001b[32m89.6/89.6 kB\u001b[0m \u001b[31m2.9 MB/s\u001b[0m eta \u001b[36m0:00:00\u001b[0m\n",
            "\u001b[?25hInstalling collected packages: pygad\n",
            "Successfully installed pygad-3.5.0\n"
          ]
        }
      ]
    },
    {
      "cell_type": "code",
      "source": [
        "import pygad\n",
        "import numpy as np\n",
        "import pandas as pd\n",
        "import statistics\n",
        "import math\n",
        "import matplotlib.pyplot as plt\n",
        "import matplotlib as mpl\n",
        "from matplotlib import image\n",
        "import seaborn as sns"
      ],
      "metadata": {
        "id": "knKoBfpJXhoj"
      },
      "execution_count": 2,
      "outputs": []
    },
    {
      "cell_type": "code",
      "source": [
        "from sklearn.preprocessing import MinMaxScaler, StandardScaler\n",
        "from scipy import stats\n",
        "import time"
      ],
      "metadata": {
        "id": "hDytwxDZYNzm"
      },
      "execution_count": 3,
      "outputs": []
    },
    {
      "cell_type": "code",
      "source": [
        "from sklearn import metrics\n",
        "from sklearn.metrics import accuracy_score, f1_score, recall_score, precision_score, mean_squared_error"
      ],
      "metadata": {
        "id": "nlUtVAUpkRKs"
      },
      "execution_count": 4,
      "outputs": []
    },
    {
      "cell_type": "code",
      "source": [
        "from sklearn.model_selection import train_test_split\n",
        "import matplotlib.pyplot as plt\n",
        "import numpy as np"
      ],
      "metadata": {
        "id": "nT8U3vJ-bu4m"
      },
      "execution_count": 5,
      "outputs": []
    },
    {
      "cell_type": "code",
      "execution_count": 6,
      "metadata": {
        "id": "xZ93O93aGABI"
      },
      "outputs": [],
      "source": [
        "#ordina sums functions\n",
        "\n",
        "# defining the generic functions for individual classes\n",
        "def yes_function(x: float, y: float, a: float, kappa: float, lam: float, gamma: float = 1) -> float:\n",
        "    return 1-max(0.0, (((1-x) ** kappa) + ((1-y) ** kappa) - ((1-a) ** kappa))) ** (1 / kappa)\n",
        "\n",
        "def no_function(x: float, y: float, a: float, kappa: float, lam: float, gamma: float = 1) -> float:\n",
        "        return max(0.0, ((x ** lam) + (y ** lam) - (a ** lam))) ** (1 / lam)\n",
        "\n",
        "def maybe_function(x: float, y: float, a:float, kappa: float, lam: float, gamma: float = 1) -> float:\n",
        "    if gamma == 0:\n",
        "            # r = 0 means we use the geometric mean\n",
        "        return 0\n",
        "    elif gamma < 0:\n",
        "            # r < 0 means we handle cases where x or y are 0\n",
        "        if x == 0 or y == 0:\n",
        "            return 0\n",
        "        else:\n",
        "                value = gamma*1/a*x*y+(1-gamma)*(1-1/(1-a)*(1-x)*(1-y))\n",
        "\n",
        "    else:\n",
        "            value = gamma*1/a*x*y+(1-gamma)*(1-1/(1-a)*(1-x)*(1-y))\n",
        "\n",
        "    return statistics.median([0, 1, value])\n",
        "\n",
        "# defining function for classification: deviding values according thir value to which fuction we use\n",
        "def classification(x: float, y: float, a: float, kappa: float, lam: float, gamma: float) -> float:\n",
        "    if x<a and y<a:\n",
        "        value = no_function(x,y,a,1,lam,1)\n",
        "    elif x>a and y>a:\n",
        "        value = yes_function(x,y,a,kappa,1,1)\n",
        "    else:\n",
        "        value = maybe_function(x,y,a,1,1,gamma)\n",
        "    return round(value,4)"
      ]
    },
    {
      "cell_type": "code",
      "source": [
        "#alg for learning parameters in ordinal sums functions\n",
        "def calculate_param_using_gen_alg(data:[] = []):\n",
        "    #preparing input-output data\n",
        "    df = data\n",
        "    columns=len(df.columns)\n",
        "\n",
        "    def fitness_func(ga_instance, solution, solution_idx):\n",
        "        param = np.array(solution)\n",
        "        df['value']=df.apply(lambda row: abs(row[0]-param[5]), axis =1)\n",
        "        # parameters for attributes\n",
        "        param[0]=0.5\n",
        "        i=5\n",
        "        j=0\n",
        "        while j < columns-2:\n",
        "            df['value']=df.apply(lambda row: classification(row['value'], abs(row[j+1]-param[i]), param[0], param[1], param[2], param[3]),\n",
        "                                                            axis = 1)\n",
        "            i += 1\n",
        "            j += 1\n",
        "        df['error']=df.apply(lambda row: math.exp2(np.abs(row['value'] - row['target'])), axis=1)\n",
        "        fitness1 = 1/math.sqrt(sum(df['error'])/len(df))\n",
        "        df['calc_value_class'] = df.apply(lambda row: 0 if (row['value']<0.5) else 1, axis=1)\n",
        "        df['target_class'] = df.apply(lambda row: 0 if (row['target']<0.5) else 1, axis=1)\n",
        "        fitness2 = f1_score(df[['calc_value_class']].values, df[['target_class']].values)\n",
        "        fitness = param[4]*fitness1 + (1-param[4])*fitness2\n",
        "        return fitness\n",
        "\n",
        "    fitness_function = fitness_func\n",
        "\n",
        "    num_generations = 60\n",
        "    num_parents_mating = 12\n",
        "\n",
        "    sol_per_pop = 24\n",
        "    num_genes = 9 #number of learnt (tuned) parameters\n",
        "\n",
        "    init_range_low = 0\n",
        "    init_range_high = 1\n",
        "\n",
        "    parent_selection_type = \"sss\"\n",
        "    keep_parents = 2\n",
        "\n",
        "    crossover_type = \"single_point\"\n",
        "\n",
        "    mutation_type = \"random\"\n",
        "    mutation_percent_genes = 15\n",
        "\n",
        "    ga_instance = pygad.GA(num_generations=num_generations,\n",
        "                            num_parents_mating=num_parents_mating,\n",
        "                            fitness_func=fitness_function,\n",
        "                            sol_per_pop=sol_per_pop,\n",
        "                            num_genes=num_genes,\n",
        "                            init_range_low=init_range_low,\n",
        "                            init_range_high=init_range_high,\n",
        "                            parent_selection_type=parent_selection_type,\n",
        "                            keep_parents=keep_parents,\n",
        "                            crossover_type=crossover_type,\n",
        "                            mutation_type=mutation_type,\n",
        "                            mutation_percent_genes=mutation_percent_genes,\n",
        "                            gene_space=[{'low': 0, 'high': 1},{'low': 0, 'high': 3},\n",
        "                                        {'low': 0, 'high': 3},{'low': 0, 'high': 1},\n",
        "                                        {'low': 0, 'high': 1},\n",
        "                                        [0,1], [0,1], [0,1], [0,1]])\n",
        "\n",
        "    ga_instance.run()\n",
        "\n",
        "    ga_instance.plot_fitness()\n",
        "\n",
        "    solution, solution_fitness, solution_idx = ga_instance.best_solution()\n",
        "\n",
        "    #filename = 'genetic'\n",
        "    #ga_instance.save(filename=filename)\n",
        "\n",
        "    solution_param= np.array(solution)\n",
        "    df['calc_value']=df.apply(lambda row: abs(row[0]-solution_param[5]), axis = 1)\n",
        "    columns=len(df.columns)\n",
        "    solution_param[0] = 0.5\n",
        "    j=0\n",
        "    i=5\n",
        "    while j < columns-7:\n",
        "        df['calc_value']=df.apply(lambda row: classification(row['calc_value'], abs(row[j+1] - solution_param[i]), solution_param[0], solution_param[1], solution_param[2], solution_param[3]),\n",
        "                                                        axis = 1)\n",
        "        i += 1\n",
        "        j += 1\n",
        "    df['calc_value_class'] = df.apply(lambda row: 0 if (row['calc_value']<solution_param[0]) else 1, axis=1)\n",
        "    df['target_class'] = df.apply(lambda row: 0 if (row['target']<solution_param[0]) else 1, axis=1)\n",
        "    merge_data = df\n",
        "    # merge_data.to_csv(\"data/output.csv\")\n",
        "    mean_error = (sum(merge_data['error'])) / len(merge_data)\n",
        "    kappa_result = solution_param[1]\n",
        "    lam_result = solution_param[2]\n",
        "    gamma_result = solution_param[3]\n",
        "    a_result = solution_param[0]\n",
        "    w1_f1 = solution_param[4]\n",
        "    w2_f1 = 1-solution_param[4]\n",
        "    return merge_data, mean_error, kappa_result, lam_result, gamma_result, a_result, solution_param, solution_fitness, solution_idx\n",
        "\n"
      ],
      "metadata": {
        "id": "hiOJCQIxGIi-"
      },
      "execution_count": 37,
      "outputs": []
    },
    {
      "cell_type": "code",
      "source": [
        "import warnings\n",
        "warnings.filterwarnings(\"ignore\")"
      ],
      "metadata": {
        "id": "MAxN2pNATcho"
      },
      "execution_count": 8,
      "outputs": []
    },
    {
      "cell_type": "code",
      "source": [
        "# Fuction to despay relevant results\n",
        "def show_results(data, mean_error, gamma_result, lam_result, kappa_result, a_result):\n",
        "    # calculate the mean squared error\n",
        "    target_values = data[['target']].values\n",
        "    value = data[['calc_value']].values\n",
        "    MSE = mean_squared_error(target_values, value)\n",
        "    RMSE = math.sqrt(MSE)\n",
        "    # print the results\n",
        "    print('Results:')\n",
        "    if all(col in data.columns for col in ['value','error']):\n",
        "      print(data.drop(columns=['value','error']))\n",
        "    else:\n",
        "      print(data)\n",
        "    #print('mean error: ', mean_error)\n",
        "    print('\\u03B3 = ', round(gamma_result, 4))\n",
        "    print('\\u03BB = ', round(lam_result, 4))\n",
        "    print('\\u03BA = ', round(kappa_result, 4))\n",
        "    print('a = ', round(a_result, 4))\n",
        "    print('Mean squared error = ', round(MSE, 4))\n",
        "    print('Root Mean Square Error = ', round(RMSE, 4))"
      ],
      "metadata": {
        "id": "rbEVi3IYGS96"
      },
      "execution_count": 9,
      "outputs": []
    },
    {
      "cell_type": "code",
      "source": [
        "def print_attr_coef(data, sol_param):\n",
        "  coeficients = []\n",
        "  for i in sol_param:\n",
        "    if i == 1:\n",
        "      pom = '1-decreasing'\n",
        "      coeficients.append(pom)\n",
        "    elif i == 0:\n",
        "      pom = '0-increasing'\n",
        "      coeficients.append(pom)\n",
        "\n",
        "  name_columns = data.drop(columns=['target']).columns\n",
        "\n",
        "  merge_list = name_columns + [': '] + coeficients\n",
        "  for list in merge_list:\n",
        "    print(list)"
      ],
      "metadata": {
        "id": "xTuGmi3p39gC"
      },
      "execution_count": 10,
      "outputs": []
    },
    {
      "cell_type": "code",
      "source": [
        "def view_chart(a, kappa, lam):\n",
        "    \"\"\" if df:\n",
        "        variables_for_plot = st.multiselect('Select 2 dependent variables for plot:', df.columns, max_selections=2)\n",
        "        if variables_for_plot:\n",
        "            df_for_plot = df[variables_for_plot]\n",
        "            x=df_for_plot.iloc[:, 0]\n",
        "            y=df_for_plot.iloc[:, 1]\n",
        "            plt.scatter(x,y) \"\"\"\n",
        "    plt.figure(figsize=(3, 3))\n",
        "    plt.subplot(111)\n",
        "    y = np.arange(0, 1, 0.05)\n",
        "    x = [a] * len(y)\n",
        "    plt.scatter(x, y, c = 'black', s = 1)\n",
        "\n",
        "    x = np.arange(0, 1, 0.05)\n",
        "    y = [a] * len(x)\n",
        "    plt.scatter(x, y, c = 'black', s = 1)\n",
        "\n",
        "    y1 = np.arange(a, 1.0, 0.001)\n",
        "    b=1\n",
        "    x1 = 1-((1-a)**kappa-(1-y1)**kappa)**(1/kappa)\n",
        "    plt.plot(x1, y1, c = 'red')\n",
        "    plt.fill_between(y1,x1, b, color='red')\n",
        "\n",
        "    y2 = np.arange(0, a, 0.01)\n",
        "    x2 = ((a**lam)-(y2**lam))**(1/lam)\n",
        "    plt.plot(y2, x2, c = 'green')\n",
        "    plt.fill_between(y2,x2,color='green')\n",
        "\n",
        "    # y3 = np.arange(a, 1.01, 0.01)\n",
        "    # x3 = 1-(((1-a)**kappa)-((1-y3)**kappa))**(1/kappa)\n",
        "    # z = np.min(b, x2)\n",
        "    # plt.fill_between(y3,x3,y2=0, color='blue')\n",
        "\n",
        "    plt.xlim(0,1)\n",
        "    plt.ylim(0,1)\n",
        "    plt.annotate('D', xy=(a, a), xytext=(a + 0.2, a + 0.2), fontsize=12)\n",
        "    plt.annotate('C', xy=(a, a), xytext=(a - 0.3, a - 0.3), fontsize=12)\n",
        "    plt.annotate('Avg', xy=(a, a), xytext=(a - 0.3, a + 0.2), fontsize=12)\n",
        "    plt.annotate('Avg', xy=(a, a), xytext=(a + 0.2, a - 0.3), fontsize=12)\n",
        "\n",
        "    plt.annotate('a', xy=(a, a), xytext=(a - 0.04, a - 0.63), fontsize=12)\n",
        "    plt.annotate('a', xy=(a, a), xytext=(a - 0.63, a - 0.04), fontsize=12)\n",
        "\n",
        "    return (plt)"
      ],
      "metadata": {
        "id": "nF9Ce5p5JUSY"
      },
      "execution_count": 11,
      "outputs": []
    },
    {
      "cell_type": "code",
      "source": [
        "import pandas as pd\n",
        "\n",
        "# Define the data for the DataFrame\n",
        "data = {\n",
        "    \"x\": [0.00, 1.00, 0.00, 0.50, 1.00, 0.00, 0.80, 0.00, 0.75, 0.58, 1.00, 0.00, 0.98, 0.20, 0.04, 0.40, 0.90, 1.00],\n",
        "    \"y\": [0.00, 0.00, 0.00, 0.50, 0.00, 1.00, 0.80, 1.00, 0.27, 0.96, 0.50, 0.00, 0.98, 0.55, 0.69, 0.20, 0.80, 1.00],\n",
        "    \"z\": [0.00, 0.00, 0.00, 0.50, 1.00, 0.00, 0.50, 1.00, 0.80, 0.80, 0.22, 0.50, 0.30, 0.70, 0.20, 0.40, 0.75, 1.00],\n",
        "    \"w\": [0.00, 0.00, 1.00, 0.50, 0.00, 1.00, 0.20, 1.00, 0.25, 0.50, 0.00, 1.00, 0.80, 0.40, 0.70, 0.35, 1.00, 1.00],\n",
        "    \"target\": [0.00, 0.00, 0.50, 0.50, 0.50, 0.50, 0.70, 1.00, 0.57, 1.00, 0.22, 0.50, 1.00, 0.35, 0.20, 0.00, 1.00, 1.00]\n",
        "}\n",
        "\n",
        "# Create the DataFrame\n",
        "testing_df = pd.DataFrame(data)\n",
        "data = pd.DataFrame(data)\n",
        "\n",
        "# Display the DataFrame\n",
        "print(testing_df)\n"
      ],
      "metadata": {
        "colab": {
          "base_uri": "https://localhost:8080/"
        },
        "id": "5577tSrLXmQz",
        "outputId": "52c9a008-55af-49d4-9ddf-17346d3f9873"
      },
      "execution_count": 41,
      "outputs": [
        {
          "output_type": "stream",
          "name": "stdout",
          "text": [
            "       x     y     z     w  target\n",
            "0   0.00  0.00  0.00  0.00    0.00\n",
            "1   1.00  0.00  0.00  0.00    0.00\n",
            "2   0.00  0.00  0.00  1.00    0.50\n",
            "3   0.50  0.50  0.50  0.50    0.50\n",
            "4   1.00  0.00  1.00  0.00    0.50\n",
            "5   0.00  1.00  0.00  1.00    0.50\n",
            "6   0.80  0.80  0.50  0.20    0.70\n",
            "7   0.00  1.00  1.00  1.00    1.00\n",
            "8   0.75  0.27  0.80  0.25    0.57\n",
            "9   0.58  0.96  0.80  0.50    1.00\n",
            "10  1.00  0.50  0.22  0.00    0.22\n",
            "11  0.00  0.00  0.50  1.00    0.50\n",
            "12  0.98  0.98  0.30  0.80    1.00\n",
            "13  0.20  0.55  0.70  0.40    0.35\n",
            "14  0.04  0.69  0.20  0.70    0.20\n",
            "15  0.40  0.20  0.40  0.35    0.00\n",
            "16  0.90  0.80  0.75  1.00    1.00\n",
            "17  1.00  1.00  1.00  1.00    1.00\n"
          ]
        }
      ]
    },
    {
      "cell_type": "code",
      "source": [
        "start_time = time.time()\n",
        "merge_data, mean_error, kappa_result, lam_result, gamma_result, a_result, sol_param, solution_fitness, solution_idx = calculate_param_using_gen_alg(data)\n",
        "\n",
        "show_results(merge_data, mean_error, gamma_result, lam_result, kappa_result, a_result)\n",
        "print_attr_coef(testing_df, sol_param)\n",
        "print(\"wages: {w1}, {w2}\".format(w1=sol_param[4], w2=1-sol_param[4]))\n",
        "print(\"Parameters of the best solution : {solution_idx}\".format(solution_idx=solution_idx))\n",
        "print(\"Fitness value of the best solution = {solution_fitness}\".format(solution_fitness=solution_fitness))\n",
        "\n",
        "print('time:', (time.time()-start_time)/60)"
      ],
      "metadata": {
        "id": "ug1qGb8WJFUF",
        "colab": {
          "base_uri": "https://localhost:8080/",
          "height": 1000
        },
        "outputId": "a2a11b61-9c20-423a-b7ea-fe1238a65f6e"
      },
      "execution_count": 42,
      "outputs": [
        {
          "output_type": "display_data",
          "data": {
            "text/plain": [
              "<Figure size 640x480 with 1 Axes>"
            ],
            "image/png": "[encoded data removed]"
          },
          "metadata": {}
        },
        {
          "output_type": "stream",
          "name": "stdout",
          "text": [
            "Results:\n",
            "       x     y     z     w  target  calc_value_class  target_class  calc_value\n",
            "0   0.00  0.00  0.00  0.00    0.00                 0             0      0.0000\n",
            "1   1.00  0.00  0.00  0.00    0.00                 0             0      0.0000\n",
            "2   0.00  0.00  0.00  1.00    0.50                 1             1      0.5085\n",
            "3   0.50  0.50  0.50  0.50    0.50                 1             1      0.5000\n",
            "4   1.00  0.00  1.00  0.00    0.50                 1             1      0.5085\n",
            "5   0.00  1.00  0.00  1.00    0.50                 1             1      0.5169\n",
            "6   0.80  0.80  0.50  0.20    0.70                 1             1      0.7033\n",
            "7   0.00  1.00  1.00  1.00    1.00                 1             1      1.0000\n",
            "8   0.75  0.27  0.80  0.25    0.57                 1             1      0.5699\n",
            "9   0.58  0.96  0.80  0.50    1.00                 1             1      1.0000\n",
            "10  1.00  0.50  0.22  0.00    0.22                 0             0      0.2286\n",
            "11  0.00  0.00  0.50  1.00    0.50                 1             1      0.5085\n",
            "12  0.98  0.98  0.30  0.80    1.00                 1             1      0.9991\n",
            "13  0.20  0.55  0.70  0.40    0.35                 0             0      0.3513\n",
            "14  0.04  0.69  0.20  0.70    0.20                 0             0      0.2034\n",
            "15  0.40  0.20  0.40  0.35    0.00                 0             0      0.0000\n",
            "16  0.90  0.80  0.75  1.00    1.00                 1             1      1.0000\n",
            "17  1.00  1.00  1.00  1.00    1.00                 1             1      1.0000\n",
            "γ =  0.4915\n",
            "λ =  1.0806\n",
            "κ =  0.7392\n",
            "a =  0.5\n",
            "Mean squared error =  0.0\n",
            "Root Mean Square Error =  0.0058\n",
            "x: 0-increasing\n",
            "y: 0-increasing\n",
            "z: 0-increasing\n",
            "w: 1-decreasing\n",
            "wages: 0.0014789637354463148, 0.9985210362645537\n",
            "Parameters of the best solution : 13\n",
            "Fitness value of the best solution = 0.9999982884587778\n",
            "time: 0.23966674407323202\n"
          ]
        }
      ]
    },
    {
      "cell_type": "code",
      "source": [
        "def calculate_tests(target_values, value):\n",
        "  print('Accuracy score = ', accuracy_score(target_values, value))\n",
        "  print('F1 = ', f1_score(target_values, value, average= 'macro'))\n",
        "  print('Precision = ', precision_score(target_values, value, average= 'macro'))\n",
        "  print('Recall = ', recall_score(target_values, value, average= 'macro'))\n",
        "  #confusion matrix\n",
        "  confusion_matrix = metrics.confusion_matrix(target_values, value)\n",
        "  cm_display = metrics.ConfusionMatrixDisplay(confusion_matrix = confusion_matrix, display_labels = [0, 1])\n",
        "  cm_display.plot()\n",
        "  plt.show()"
      ],
      "metadata": {
        "id": "vk2n4V0U2l_j"
      },
      "execution_count": 33,
      "outputs": []
    },
    {
      "cell_type": "code",
      "source": [
        "# tests for train dataset: testing_df\n",
        "calculate_tests(merge_data[[\"calc_value_class\"]].values, merge_data[['target_class']].values)"
      ],
      "metadata": {
        "colab": {
          "base_uri": "https://localhost:8080/",
          "height": 524
        },
        "id": "5oPIQ-ekaKsG",
        "outputId": "3cb8fa9d-3efa-44fb-ba69-75ae711c8e8b"
      },
      "execution_count": 43,
      "outputs": [
        {
          "output_type": "stream",
          "name": "stdout",
          "text": [
            "Accuracy score =  1.0\n",
            "F1 =  1.0\n",
            "Precision =  1.0\n",
            "Recall =  1.0\n"
          ]
        },
        {
          "output_type": "display_data",
          "data": {
            "text/plain": [
              "<Figure size 640x480 with 2 Axes>"
            ],
            "image/png": "[encoded data removed]"
          },
          "metadata": {}
        }
      ]
    },
    {
      "cell_type": "code",
      "source": [
        "# df = pd.DataFrame()\n",
        "# chart = view_chart(df, 0.2305, 0.8658, 3.7278, 0.9559)\n",
        "# chart = view_chart(0.5,1,1)\n",
        "\n",
        "chart = view_chart(0.576, 0.1413*2, 0.1663*2)\n",
        "chart.show()"
      ],
      "metadata": {
        "colab": {
          "base_uri": "https://localhost:8080/",
          "height": 332
        },
        "id": "-BDOf3diJfL4",
        "outputId": "fddad0a4-4e83-4081-ba6e-6146f94912a9"
      },
      "execution_count": null,
      "outputs": [
        {
          "output_type": "stream",
          "name": "stderr",
          "text": [
            "<ipython-input-5-6737d8efe725>:21: RuntimeWarning: invalid value encountered in power\n",
            "  x1 = 1-((1-a)**kappa-(1-y1)**kappa)**(1/kappa)\n"
          ]
        },
        {
          "output_type": "display_data",
          "data": {
            "text/plain": [
              "<Figure size 300x300 with 1 Axes>"
            ],
            "image/png": "[encoded data removed]"
          },
          "metadata": {}
        }
      ]
    },
    {
      "cell_type": "code",
      "source": [
        "# Define the data for the DataFrame\n",
        "data = {\n",
        "    \"x\": [0.10, 0.95, 0.05, 0.60, 0.85, 0.15, 0.72, 0.05, 0.68, 0.47, 0.92, 0.08, 0.88, 0.25, 0.12, 0.35, 0.82, 0.97],\n",
        "    \"y\": [0.05, 0.07, 0.02, 0.45, 0.03, 0.98, 0.76, 0.92, 0.30, 0.88, 0.46, 0.07, 0.91, 0.50, 0.65, 0.25, 0.78, 0.94],\n",
        "    \"z\": [0.03, 0.06, 0.09, 0.55, 0.95, 0.12, 0.53, 0.97, 0.78, 0.75, 0.18, 0.52, 0.32, 0.65, 0.25, 0.42, 0.72, 0.99],\n",
        "    \"w\": [0.07, 0.04, 0.98, 0.52, 0.06, 0.93, 0.25, 0.89, 0.22, 0.55, 0.05, 0.95, 0.77, 0.45, 0.60, 0.40, 0.99, 0.96],\n",
        "    \"target\": [0.00, 0.00, 0.48, 0.62, 0.39, 0.68, 0.75, 1.00, 0.48, 1.00, 0.11, 0.47, 1.00, 0.35, 0.12, 0.00, 1.00, 1.00]\n",
        "}\n",
        "\n",
        "\n",
        "# Create the DataFrame\n",
        "df_test = pd.DataFrame(data)\n"
      ],
      "metadata": {
        "id": "CcAkWL-y5bhB"
      },
      "execution_count": 16,
      "outputs": []
    },
    {
      "cell_type": "code",
      "source": [
        "# Calculate ordinal sums on test dataset\n",
        "columns=len(df_test.columns)\n",
        "df_test['calc_value']=df_test.apply(lambda row: row[0], axis =1)\n",
        "# parameters for attributes\n",
        "i=5\n",
        "j=0\n",
        "while j < columns-2:\n",
        "  df_test['calc_value']=df_test.apply(lambda row: classification(row['calc_value'], abs(row[j+1]-sol_param[i]), sol_param[0], sol_param[1], sol_param[2], sol_param[3]), axis = 1)\n",
        "  i += 1\n",
        "  j += 1\n",
        "show_results(df_test, 0, 0, 0, 0, 0)"
      ],
      "metadata": {
        "colab": {
          "base_uri": "https://localhost:8080/"
        },
        "id": "YC6nNHxJiWy6",
        "outputId": "cdb1791b-a101-403c-8732-4acadee30c33"
      },
      "execution_count": 17,
      "outputs": [
        {
          "output_type": "stream",
          "name": "stdout",
          "text": [
            "Results:\n",
            "       x     y     z     w  target  calc_value\n",
            "0   0.10  0.05  0.03  0.07    0.00      0.0000\n",
            "1   0.95  0.07  0.06  0.04    0.00      0.0000\n",
            "2   0.05  0.02  0.09  0.98    0.48      0.4756\n",
            "3   0.60  0.45  0.55  0.52    0.62      0.6467\n",
            "4   0.85  0.03  0.95  0.06    0.39      0.3985\n",
            "5   0.15  0.98  0.12  0.93    0.68      0.6912\n",
            "6   0.72  0.76  0.53  0.25    0.75      0.7206\n",
            "7   0.05  0.92  0.97  0.89    1.00      1.0000\n",
            "8   0.68  0.30  0.78  0.22    0.48      0.5038\n",
            "9   0.47  0.88  0.75  0.55    1.00      1.0000\n",
            "10  0.92  0.46  0.18  0.05    0.11      0.1303\n",
            "11  0.08  0.07  0.52  0.95    0.47      0.4767\n",
            "12  0.88  0.91  0.32  0.77    1.00      1.0000\n",
            "13  0.25  0.50  0.65  0.45    0.35      0.3703\n",
            "14  0.12  0.65  0.25  0.60    0.12      0.1070\n",
            "15  0.35  0.25  0.42  0.40    0.00      0.0000\n",
            "16  0.82  0.78  0.72  0.99    1.00      1.0000\n",
            "17  0.97  0.94  0.99  0.96    1.00      1.0000\n",
            "γ =  0\n",
            "λ =  0\n",
            "κ =  0\n",
            "a =  0\n",
            "Mean squared error =  0.0002\n",
            "Root Mean Square Error =  0.0137\n"
          ]
        }
      ]
    },
    {
      "cell_type": "code",
      "source": [
        "#prepare data for tests\n",
        "df_test['calc_value_class'] = df_test.apply(lambda row: 0 if (row['calc_value']<0.4664) else 1, axis=1)\n",
        "df_test['target_class'] = df_test.apply(lambda row: 0 if (row['target']<0.4664) else 1, axis=1)"
      ],
      "metadata": {
        "id": "IIkl7KEXPd70"
      },
      "execution_count": 18,
      "outputs": []
    },
    {
      "cell_type": "code",
      "source": [
        "# tests for train dataset:\n",
        "calculate_tests(df_test[['calc_value_class']].values, df_test[['target_class']].values)"
      ],
      "metadata": {
        "colab": {
          "base_uri": "https://localhost:8080/",
          "height": 518
        },
        "id": "QWLpUw2bkuVT",
        "outputId": "02975d47-6104-49e1-867f-1bead27dc203"
      },
      "execution_count": 19,
      "outputs": [
        {
          "output_type": "stream",
          "name": "stdout",
          "text": [
            "Accuracy score =  1.0\n",
            "F1 =  1.0\n",
            "Precision =  1.0\n",
            "Recall =  1.0\n"
          ]
        },
        {
          "output_type": "display_data",
          "data": {
            "text/plain": [
              "<Figure size 640x480 with 2 Axes>"
            ],
            "image/png": "[encoded data removed]"
          },
          "metadata": {}
        }
      ]
    }
  ]
}