{
  "cells": [
    {
      "cell_type": "markdown",
      "metadata": {
        "id": "view-in-github",
        "colab_type": "text"
      },
      "source": [
        "<a href=\"https://colab.research.google.com/github/erikaminarikova/Ordinal_Sums/blob/main/Example_2_nullnorms_calculate_ordinal_sums.ipynb\" target=\"_parent\"><img src=\"https://colab.research.google.com/assets/colab-badge.svg\" alt=\"Open In Colab\"/></a>"
      ]
    },
    {
      "cell_type": "code",
      "source": [
        "from google.colab import drive\n",
        "drive.mount('/content/drive')"
      ],
      "metadata": {
        "colab": {
          "base_uri": "https://localhost:8080/"
        },
        "id": "dZ1sc4lUzNvO",
        "outputId": "07243448-ed37-4e2a-e237-6936a19f0a6e"
      },
      "id": "dZ1sc4lUzNvO",
      "execution_count": 1,
      "outputs": [
        {
          "output_type": "stream",
          "name": "stdout",
          "text": [
            "Mounted at /content/drive\n"
          ]
        }
      ]
    },
    {
      "cell_type": "code",
      "source": [
        "import pandas as pd"
      ],
      "metadata": {
        "id": "Nhdnyyj3znKg"
      },
      "id": "Nhdnyyj3znKg",
      "execution_count": 2,
      "outputs": []
    },
    {
      "cell_type": "code",
      "execution_count": 6,
      "id": "5df6994c",
      "metadata": {
        "id": "5df6994c"
      },
      "outputs": [],
      "source": [
        "#ordina sums functions\n",
        "\n",
        "# defining functions for individual classes\n",
        "def yes_function(x: float, y: float, a: float) -> float:\n",
        "    return min(x,y)\n",
        "\n",
        "def no_function(x: float, y: float, a: float) -> float:\n",
        "        return max(x,y)\n",
        "\n",
        "def maybe_function1(x: float, y: float, a:float) -> float:\n",
        "    return a*max(x/a,1)+(1-a)*min(0,(y-a)/(1-a))\n",
        "\n",
        "def maybe_function2(x: float, y: float, a:float) -> float:\n",
        "    return a*max(y/a,1)+(1-a)*min(0,(x-a)/(1-a))\n",
        "\n",
        "# defining function for classification: deviding values according thir value to which fuction we use\n",
        "def classification(x: float, y: float, a: float) -> float:\n",
        "    if x<a and y<a:\n",
        "        value = no_function(x,y,a)\n",
        "    elif x>a and y>a:\n",
        "        value = yes_function(x,y,a)\n",
        "    elif x<a and y>a:\n",
        "        value = maybe_function1(x,y,a)\n",
        "    else:\n",
        "        value = maybe_function2(x,y,a)\n",
        "    return value"
      ]
    },
    {
      "cell_type": "code",
      "source": [
        "df=pd.read_csv('/content/drive/MyDrive/Colab Notebooks/data/nullnorms_input.csv',sep=\";\")"
      ],
      "metadata": {
        "id": "AJwAw4M7zUOz"
      },
      "id": "AJwAw4M7zUOz",
      "execution_count": 4,
      "outputs": []
    },
    {
      "cell_type": "code",
      "execution_count": 7,
      "id": "aa03e66d",
      "metadata": {
        "colab": {
          "base_uri": "https://localhost:8080/"
        },
        "id": "aa03e66d",
        "outputId": "aead77ee-4f84-4fde-df5a-a99ecd27b23e"
      },
      "outputs": [
        {
          "output_type": "stream",
          "name": "stdout",
          "text": [
            "       x     y  result\n",
            "0   0.00  0.00    0.00\n",
            "1   0.25  0.23    0.25\n",
            "2   0.25  0.35    0.35\n",
            "3   0.42  0.96    0.50\n",
            "4   0.00  0.50    0.00\n",
            "5   1.00  0.00    0.50\n",
            "6   0.02  0.98    0.50\n",
            "7   0.80  0.55    0.55\n",
            "8   0.80  0.70    0.70\n",
            "9   0.96  0.69    0.69\n",
            "10  1.00  1.00    1.00\n"
          ]
        }
      ],
      "source": [
        "# calculate the results with ordinal sums\n",
        "df['result'] = df.apply(lambda row: classification(row['x'], row['y'], 0.5), axis = 1)\n",
        "\n",
        "print(df)\n"
      ]
    },
    {
      "cell_type": "code",
      "source": [
        "df.to_csv('/content/drive/MyDrive/Colab Notebooks/data/nullnorms_output.csv')"
      ],
      "metadata": {
        "id": "Vkg3Px33BnCt"
      },
      "id": "Vkg3Px33BnCt",
      "execution_count": null,
      "outputs": []
    },
    {
      "cell_type": "code",
      "execution_count": null,
      "id": "1ade98a5",
      "metadata": {
        "id": "1ade98a5"
      },
      "outputs": [],
      "source": []
    }
  ],
  "metadata": {
    "kernelspec": {
      "display_name": "Python 3 (ipykernel)",
      "language": "python",
      "name": "python3"
    },
    "language_info": {
      "codemirror_mode": {
        "name": "ipython",
        "version": 3
      },
      "file_extension": ".py",
      "mimetype": "text/x-python",
      "name": "python",
      "nbconvert_exporter": "python",
      "pygments_lexer": "ipython3",
      "version": "3.9.7"
    },
    "colab": {
      "provenance": [],
      "include_colab_link": true
    }
  },
  "nbformat": 4,
  "nbformat_minor": 5
}