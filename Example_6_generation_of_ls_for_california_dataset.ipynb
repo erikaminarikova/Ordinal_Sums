{
  "cells": [
    {
      "cell_type": "markdown",
      "metadata": {
        "id": "view-in-github",
        "colab_type": "text"
      },
      "source": [
        "<a href=\"https://colab.research.google.com/github/erikaminarikova/Ordinal_Sums/blob/main/Example_6_generation_of_ls_for_california_dataset.ipynb\" target=\"_parent\"><img src=\"https://colab.research.google.com/assets/colab-badge.svg\" alt=\"Open In Colab\"/></a>"
      ]
    },
    {
      "cell_type": "code",
      "execution_count": 10,
      "metadata": {
        "id": "7dcxmkWdfyCc"
      },
      "outputs": [],
      "source": [
        "import pandas as pd\n",
        "import numpy as np\n",
        "import time"
      ]
    },
    {
      "cell_type": "markdown",
      "source": [
        "Preparing the data"
      ],
      "metadata": {
        "id": "vMvWu2i2TA5O"
      }
    },
    {
      "cell_type": "code",
      "execution_count": 11,
      "metadata": {
        "id": "-HdpAzvsfyCj"
      },
      "outputs": [],
      "source": [
        "from sklearn.datasets import fetch_california_housing\n",
        "from sklearn.preprocessing import MinMaxScaler\n",
        "\n",
        "california_housing = fetch_california_housing(as_frame=True)\n",
        "df = california_housing.frame\n",
        "\n",
        "columns = df.columns\n",
        "# normalize the data\n",
        "scaler = MinMaxScaler()\n",
        "model = scaler.fit_transform(df)\n",
        "df_scaled = pd.DataFrame(model, columns = columns)"
      ]
    },
    {
      "cell_type": "markdown",
      "source": [
        "Generating the linguistic summaries"
      ],
      "metadata": {
        "id": "70pRUaECS6Ax"
      }
    },
    {
      "cell_type": "code",
      "execution_count": 12,
      "metadata": {
        "colab": {
          "base_uri": "https://localhost:8080/"
        },
        "id": "XdftnITVfyCq",
        "outputId": "24fbd3b5-c655-4f42-c2ff-88a9ddf1504f"
      },
      "outputs": [
        {
          "output_type": "stream",
          "name": "stdout",
          "text": [
            "Sometimes/About half MedInc_low have MedHouseVal_low t= 0.6044325689703459\n",
            "Rarely/ Few MedInc_low have MedHouseVal_medium t= 0.3214597397120511\n",
            "Rarely/ Few MedInc_low have MedHouseVal_high t= 0.08209946436550077\n",
            "Rarely/ Few MedInc_medium have MedHouseVal_low t= 0.0715732649964386\n",
            "Sometimes/About half MedInc_medium have MedHouseVal_medium t= 0.46661468270222733\n",
            "Sometimes/About half MedInc_medium have MedHouseVal_high t= 0.510943274563873\n",
            "Rarely/ Few MedInc_high have MedHouseVal_low t= 0.013167425099501286\n",
            "Rarely/ Few MedInc_high have MedHouseVal_medium t= 0.018483221530631866\n",
            "Most of MedInc_high have MedHouseVal_high t= 0.9710625946328149\n",
            "time: 3.134422779083252\n"
          ]
        }
      ],
      "source": [
        "start_time = time.time()\n",
        "# testing data\n",
        "# df = pd.read_csv('data/data_mixed.csv', sep=';')\n",
        "# running generetion of LS: Q R have S (e.g. (most of/few/about half)old hauses has low price)\n",
        "def linguistic_summaries(df):\n",
        "    data = membership_dgree_columns(df)\n",
        "    x = 0 # which column as R (age of building)\n",
        "    y = 8 # which column as S (price)\n",
        "    compute_linguistic_summaries(df, data, x, y)\n",
        "    return data\n",
        "result = linguistic_summaries(df_scaled)\n",
        "print('time:', time.time()-start_time)"
      ]
    },
    {
      "cell_type": "markdown",
      "source": [
        "Definitions of functions needed for generation of LS"
      ],
      "metadata": {
        "id": "vyyUbYBITFf3"
      }
    },
    {
      "cell_type": "code",
      "execution_count": 1,
      "metadata": {
        "id": "q7fto7e2fyCs"
      },
      "outputs": [],
      "source": [
        "def quantifier(x,a,b):\n",
        "    if x>=b:\n",
        "        membership_degree=1\n",
        "    elif x>a and x<b:\n",
        "        membership_degree=(x-a)/(b-a)\n",
        "    else:\n",
        "        membership_degree=0\n",
        "    return membership_degree"
      ]
    },
    {
      "cell_type": "code",
      "execution_count": 2,
      "metadata": {
        "id": "16kYrXh9fyCu"
      },
      "outputs": [],
      "source": [
        "def l_fuzzy_set(x,a,b):\n",
        "    if x<=a:\n",
        "        membership_degree=1\n",
        "    elif b>x>a:\n",
        "        membership_degree=(b-x)/(b-a)\n",
        "    else:\n",
        "        membership_degree=0\n",
        "    return membership_degree\n"
      ]
    },
    {
      "cell_type": "code",
      "execution_count": 3,
      "metadata": {
        "id": "sHT-pQTdfyCv"
      },
      "outputs": [],
      "source": [
        "def r_fuzzy_set(x,a,b):\n",
        "    if x<=a:\n",
        "        membership_degree=0\n",
        "    elif b>x>a:\n",
        "        membership_degree=(x-a)/(b-a)\n",
        "    else:\n",
        "        membership_degree=1\n",
        "    return membership_degree"
      ]
    },
    {
      "cell_type": "code",
      "execution_count": 4,
      "metadata": {
        "id": "GJLqoEhYfyCx"
      },
      "outputs": [],
      "source": [
        "def triangular_fuzzy_set(x,a,b,m):\n",
        "    if x==m:\n",
        "        membership_degree=1\n",
        "    elif m>x>a:\n",
        "        membership_degree=(x-a)/(m-a)\n",
        "    elif b>x>m:\n",
        "        membership_degree=(b-x)/(b-m)\n",
        "    else:\n",
        "        membership_degree=0\n",
        "    return membership_degree"
      ]
    },
    {
      "cell_type": "code",
      "execution_count": 5,
      "metadata": {
        "id": "PPxcddhBfyCy"
      },
      "outputs": [],
      "source": [
        "def trapeziodal_fuzzy_set(x,a,b,m,n):\n",
        "    if n>=x>=m:\n",
        "        membership_degree=1\n",
        "    elif m>x>a:\n",
        "        membership_degree=(x-a)/(m-a)\n",
        "    elif b>x>n:\n",
        "        membership_degree=(b-x)/(b-n)\n",
        "    else:\n",
        "        membership_degree=0\n",
        "    return membership_degree"
      ]
    },
    {
      "cell_type": "code",
      "execution_count": 6,
      "metadata": {
        "id": "aud3qayMfyC0"
      },
      "outputs": [],
      "source": [
        "def calculate_membership_degree(column):\n",
        "    initial_list = list(column)\n",
        "    computed_list_low = []\n",
        "    computed_list_medium = []\n",
        "    computed_list_high = []\n",
        "    for i in initial_list:\n",
        "        computed_list_low.append(l_fuzzy_set(i, 0.3,0.4))\n",
        "        computed_list_medium.append(trapeziodal_fuzzy_set(i, 0.3,0.7,0.4,0.6))\n",
        "        computed_list_high.append(r_fuzzy_set(i, 0.6,0.7))\n",
        "    final = [computed_list_low, computed_list_medium, computed_list_high]\n",
        "    return final\n"
      ]
    },
    {
      "cell_type": "code",
      "execution_count": 7,
      "metadata": {
        "id": "tFBU2n_efyC3"
      },
      "outputs": [],
      "source": [
        "#for each column add 3 columns to compute membership to low medium and high (e.g. column price: price_low, price_medium, price_high)\n",
        "def membership_dgree_columns(df):\n",
        "    number_of_columns = len(df.columns)\n",
        "    name = df.columns\n",
        "    i=0\n",
        "    while i < number_of_columns:\n",
        "        final = calculate_membership_degree(df.iloc[:,i])\n",
        "        final_df = pd.DataFrame(final, index=[name[i] + '_low', name[i] + '_medium', name[i] + '_high'])\n",
        "        final_df = final_df.transpose()\n",
        "        df = df.join(final_df)\n",
        "        i += 1\n",
        "    return df"
      ]
    },
    {
      "cell_type": "code",
      "execution_count": 8,
      "metadata": {
        "id": "GTuE1DpifyC5"
      },
      "outputs": [],
      "source": [
        "# equation for LS calculation\n",
        "def ls_proporcion(agr_min,sum_a,text1,text2):\n",
        "    t = sum(agr_min.min(axis=1))/sum(sum_a)\n",
        "    result_ls= quantifier(t, 0.4, 0.8)\n",
        "    if result_ls == 0:\n",
        "        print('Rarely/ Few',text1,\"have\",text2,\"t=\",t)\n",
        "    elif result_ls == 1:\n",
        "        print('Most of',text1,\"have\",text2,\"t=\",t)\n",
        "    else:\n",
        "        print('Sometimes/About half',text1,\"have\",text2,\"t=\",t)"
      ]
    },
    {
      "cell_type": "code",
      "execution_count": 9,
      "metadata": {
        "id": "jsqQIl6LfyC7"
      },
      "outputs": [],
      "source": [
        "def compute_linguistic_summaries(df, data, x, y):\n",
        "    number = len(df.columns)\n",
        "    x+=1\n",
        "    y+=1\n",
        "    first = data.columns[number+(x-1)*3:number+x*3]\n",
        "    second = data.columns[number+(y-1)*3:number+y*3]\n",
        "    for i in first:\n",
        "        for j in second:\n",
        "            ls_proporcion(data[[i,j]],data[i],i,j)"
      ]
    }
  ],
  "metadata": {
    "kernelspec": {
      "display_name": "Python 3 (ipykernel)",
      "language": "python",
      "name": "python3"
    },
    "language_info": {
      "codemirror_mode": {
        "name": "ipython",
        "version": 3
      },
      "file_extension": ".py",
      "mimetype": "text/x-python",
      "name": "python",
      "nbconvert_exporter": "python",
      "pygments_lexer": "ipython3",
      "version": "3.9.7"
    },
    "colab": {
      "provenance": [],
      "include_colab_link": true
    }
  },
  "nbformat": 4,
  "nbformat_minor": 0
}